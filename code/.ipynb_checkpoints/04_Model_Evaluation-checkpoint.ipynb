{
 "cells": [
  {
   "cell_type": "markdown",
   "id": "unknown-regulation",
   "metadata": {},
   "source": [
    "# Model Evaluation"
   ]
  },
  {
   "cell_type": "markdown",
   "id": "animal-figure",
   "metadata": {},
   "source": [
    "Based on the work done in Model Selection, two 'winning' models were selected for a final examination and comparison.  A Naive Bayes model and a Logistic Regression model with default regularization, both using TF-IDF or Term Frequency Inverse Document Frequency, were employed.\n",
    "\n",
    "Both models performed well with each indicated some level of being overfit - more prominent with the Logistic Regression model.  In general, accuracy, sensitivity, specificity, and precision were similar for both."
   ]
  },
  {
   "cell_type": "code",
   "execution_count": 1,
   "id": "agreed-modem",
   "metadata": {},
   "outputs": [],
   "source": [
    "import pandas as pd\n",
    "import numpy as np\n",
    "import seaborn as sns\n",
    "\n",
    "import matplotlib.pyplot as plt\n",
    "\n",
    "from sklearn.model_selection import train_test_split, cross_val_score\n",
    "from sklearn.naive_bayes import MultinomialNB\n",
    "from sklearn.linear_model import LogisticRegression\n",
    "from sklearn.metrics import confusion_matrix, plot_confusion_matrix\n",
    "from sklearn.metrics import (r2_score, mean_squared_error)\n",
    "\n",
    "from sklearn.feature_extraction.text import CountVectorizer, TfidfVectorizer\n",
    "\n",
    "import re\n",
    "\n",
    "\n",
    "pd.set_option('display.max_columns', None)\n",
    "pd.set_option('display.max_rows', None)"
   ]
  },
  {
   "cell_type": "code",
   "execution_count": 2,
   "id": "strong-westminster",
   "metadata": {},
   "outputs": [
    {
     "data": {
      "text/html": [
       "<div>\n",
       "<style scoped>\n",
       "    .dataframe tbody tr th:only-of-type {\n",
       "        vertical-align: middle;\n",
       "    }\n",
       "\n",
       "    .dataframe tbody tr th {\n",
       "        vertical-align: top;\n",
       "    }\n",
       "\n",
       "    .dataframe thead th {\n",
       "        text-align: right;\n",
       "    }\n",
       "</style>\n",
       "<table border=\"1\" class=\"dataframe\">\n",
       "  <thead>\n",
       "    <tr style=\"text-align: right;\">\n",
       "      <th></th>\n",
       "      <th>author</th>\n",
       "      <th>selftext</th>\n",
       "      <th>title</th>\n",
       "      <th>subreddit_bodyweightfitness</th>\n",
       "    </tr>\n",
       "  </thead>\n",
       "  <tbody>\n",
       "    <tr>\n",
       "      <th>0</th>\n",
       "      <td>Solfire</td>\n",
       "      <td>**HEY YOU,**\\n\\nHave you taken any recent pics...</td>\n",
       "      <td>Sunday Show Off - Because it's perfectly fine ...</td>\n",
       "      <td>1</td>\n",
       "    </tr>\n",
       "    <tr>\n",
       "      <th>1</th>\n",
       "      <td>teetee9</td>\n",
       "      <td>the context that led me to ask this question i...</td>\n",
       "      <td>what would someone who is 5 foot tall and 114 ...</td>\n",
       "      <td>1</td>\n",
       "    </tr>\n",
       "  </tbody>\n",
       "</table>\n",
       "</div>"
      ],
      "text/plain": [
       "    author                                           selftext  \\\n",
       "0  Solfire  **HEY YOU,**\\n\\nHave you taken any recent pics...   \n",
       "1  teetee9  the context that led me to ask this question i...   \n",
       "\n",
       "                                               title  \\\n",
       "0  Sunday Show Off - Because it's perfectly fine ...   \n",
       "1  what would someone who is 5 foot tall and 114 ...   \n",
       "\n",
       "   subreddit_bodyweightfitness  \n",
       "0                            1  \n",
       "1                            1  "
      ]
     },
     "execution_count": 2,
     "metadata": {},
     "output_type": "execute_result"
    }
   ],
   "source": [
    "df = pd.read_csv('../data/cleaned_final.csv')\n",
    "df.head(2)"
   ]
  },
  {
   "cell_type": "code",
   "execution_count": 3,
   "id": "threaded-aspect",
   "metadata": {},
   "outputs": [],
   "source": [
    "# Considered removal of hyperlinks\n",
    "# https://stackoverflow.com/questions/51994254/removing-url-from-a-column-in-pandas-dataframe"
   ]
  },
  {
   "cell_type": "code",
   "execution_count": 5,
   "id": "prospective-danger",
   "metadata": {},
   "outputs": [],
   "source": [
    "X = df['selftext']\n",
    "\n",
    "y = df['subreddit_bodyweightfitness'] "
   ]
  },
  {
   "cell_type": "markdown",
   "id": "signal-behavior",
   "metadata": {},
   "source": [
    "## Baseline / Null Model"
   ]
  },
  {
   "cell_type": "code",
   "execution_count": 6,
   "id": "typical-giant",
   "metadata": {},
   "outputs": [
    {
     "data": {
      "text/plain": [
       "1    0.567966\n",
       "0    0.432034\n",
       "Name: subreddit_bodyweightfitness, dtype: float64"
      ]
     },
     "execution_count": 6,
     "metadata": {},
     "output_type": "execute_result"
    }
   ],
   "source": [
    "# Finding the baseline / null model\n",
    "y.value_counts(normalize=True)"
   ]
  },
  {
   "cell_type": "markdown",
   "id": "systematic-ability",
   "metadata": {},
   "source": [
    "## Custom Stop Words"
   ]
  },
  {
   "cell_type": "code",
   "execution_count": 7,
   "id": "cellular-region",
   "metadata": {},
   "outputs": [],
   "source": [
    "# creating a custom stop word list as some words could be fitness related (one, two, ten, etc.)\n",
    "custom_stop_words = ['were', 'not', 'still', 'inc', 'see', 'all', 'beforehand', 'whether', 'under', 'either', 'over', \n",
    "                   'to', 'can', 'herself', 'detail', 'on', 'rather', 'nothing', 'etc', 'upon', 'being', 'ours',  \n",
    "                   'yours', 'noone', 'ourselves', 'have', 'an', 'co', 'bottom', 'alone', 'above', 'some', 'further', \n",
    "                   'however', 'could', 'why', 'who', 'us', 'anyway', 'most', 'everything', 'towards', 'his', 'anyone', 'same', \n",
    "                   'whole', 'nowhere', 'thus', 'across', 'find', 'mill', 'anyhow', 'next', 'seems', 'eg', 'made', \n",
    "                   'wherein', 'seeming', 'besides', 'whence', 'where', 'against', 'enough', 'amoungst', 'whatever', 'might', \n",
    "                   'when', 'he', 'back', 'hereby', 'namely', 'top', 'should', 'toward', 'take', 'ie', 'less', 'somewhere', \n",
    "                   'fill', 'together', 'our', 'sometime', 'himself', 'mine', 'cry', 'please', 'is', 'anywhere', 'ltd', \n",
    "                   'became', 'nobody', 'yourselves', 'therefore', 'beside', 'couldnt', 'then', 'somehow', 'whoever', \n",
    "                   'everywhere', 'put', 'below', 'than', 'onto', 'bill', 'done', 'hasnt', 'though', 'whereupon', 'due', 'until', \n",
    "                   'nor', 'themselves', 'as', 'after', 'fire', 'has', 'was', 'formerly', 'thick', 'by', 'herein', \n",
    "                   'more', 'in', 'another', 'elsewhere', 'meanwhile', 'otherwise', 'which', \n",
    "                   'much', 'amongst', 'cannot', 'would', 'here', 'if', 'cant', 'had', 'moreover', 'again', \n",
    "                   'describe', 'con', 'latterly', 'get', 'hereafter', 'front', 'other', 'mostly', 'thereafter', 'whereas', \n",
    "                   'ever', 'of', 'latter', 'the', 'both', 'while', 'even', 'become', 'or', 'per', 'your', 'yourself', \n",
    "                   'nevertheless', 'itself', 'thence', 'are', 'but', 'now', 'what', 'almost', 'those', 'own', \n",
    "                   'call', 'de', 'often', 'none', 'you', 'empty', 'for', 'give', 'through', 'un', 'whither', \n",
    "                   'very', 'thereupon', 'up', 'many', 'never', 'since', 'am', 'these', 'between', 'during', 'show', 'before', \n",
    "                   'sometimes', 'hers', 'myself', 'sincere', 'once', 'this', 'too', 'becomes', 'do', 'each', 'whenever', \n",
    "                   'around', 'thereby', 'whereby', 'with', 'afterwards', 'will', 'although', 'we', 'how', 'yet', \n",
    "                   'because', 'be', 'that', 'found', 'i', 'already', 'out', 'keep', 'hence', 'becoming', 'may', 'throughout', \n",
    "                   'something', 'such', 'her', 'beyond', 'only', 'from', 'anything', 'off', 'else', 'along', \n",
    "                   'neither', 'seemed', 'there', 'about', 'among', 'always', 'few', 're', 'also', 'seem', 'into', \n",
    "                   'go', 'thru', 'hereupon', 'no', 'at', 'serious', 'former', 'any', 'they', 'their', 'name',  \n",
    "                   'everyone', 'part', 'me', 'it', 'so', 'side', 'perhaps', 'whose', 'my', 'someone', 'interest', 'she', \n",
    "                   'wherever', 'within', 'been', 'its', 'him', 'indeed', 'others', 'and', 'whereafter', 'except', 'least', \n",
    "                   'behind', 'a', 'them', 'via', 'therein', 'system', 'well', 'without', 'must', 'whom']"
   ]
  },
  {
   "cell_type": "markdown",
   "id": "ahead-oregon",
   "metadata": {},
   "source": [
    "## Logistic Regression with TfidVectorizer"
   ]
  },
  {
   "cell_type": "code",
   "execution_count": 8,
   "id": "anonymous-desire",
   "metadata": {},
   "outputs": [],
   "source": [
    "X_train, X_test, y_train, y_test = train_test_split(X,\n",
    "                                                    y,\n",
    "                                                    test_size=0.25,\n",
    "                                                    stratify=y,\n",
    "                                                    random_state=42)"
   ]
  },
  {
   "cell_type": "code",
   "execution_count": 9,
   "id": "caroline-killing",
   "metadata": {},
   "outputs": [
    {
     "name": "stdout",
     "output_type": "stream",
     "text": [
      "Cross Val Score: 0.9009289713310551\n",
      "-----------------\n",
      "Train R2: 0.9334636901852154\n",
      "-----------------\n",
      "Test R2: 0.9028999674160965\n",
      "-----------------\n",
      "RMSE Train: 0.49535775832607887\n",
      "-----------------\n",
      "RMSE Test: 0.4953630041256318\n"
     ]
    }
   ],
   "source": [
    "tvec = TfidfVectorizer(stop_words=custom_stop_words, \n",
    "                       max_features=7000, \n",
    "                       max_df=0.5, \n",
    "                       ngram_range=(1,2))\n",
    "\n",
    "tvec.fit(X_train)\n",
    "\n",
    "X_train = tvec.transform(X_train)\n",
    "\n",
    "X_test = tvec.transform(X_test)\n",
    "\n",
    "lg = LogisticRegression()\n",
    "\n",
    "lg.fit(X_train, y_train)\n",
    "\n",
    "\n",
    "print(f'Cross Val Score: {cross_val_score(lg, X_train, y_train, cv=5).mean()}') \n",
    "print('-----------------')\n",
    "print(f'Train R2: {lg.score(X_train, y_train)}')\n",
    "print('-----------------')\n",
    "print(f'Test R2: {lg.score(X_test, y_test)}')\n",
    "print('-----------------')\n",
    "\n",
    "# geting predictions for train and test:\n",
    "train_preds = lg.predict(X_train)\n",
    "test_preds  = lg.predict(X_test)\n",
    "\n",
    "# training preds to find training rmse\n",
    "baseline_train_preds = [y_train.mean() for i in y_train]\n",
    "print(f'RMSE Train: {mean_squared_error(y_true = y_train, y_pred= baseline_train_preds, squared = False)}')\n",
    "print('-----------------')\n",
    "# testing preds to find testing rmse\n",
    "baseline_test_preds = [y_train.mean() for i in y_test]\n",
    "print(f'RMSE Test: {mean_squared_error(y_true = y_test, y_pred= baseline_test_preds, squared = False)}')\n"
   ]
  },
  {
   "cell_type": "code",
   "execution_count": 10,
   "id": "under-moldova",
   "metadata": {},
   "outputs": [
    {
     "data": {
      "image/png": "[encoded data removed]",
      "text/plain": [
       "<Figure size 432x288 with 2 Axes>"
      ]
     },
     "metadata": {
      "needs_background": "light"
     },
     "output_type": "display_data"
    }
   ],
   "source": [
    "# Get predictions\n",
    "pred = lg.predict(X_test)\n",
    "# Save confusion matrix values\n",
    "tn, fp, fn, tp = confusion_matrix(y_test, pred).ravel()\n",
    "\n",
    "# View confusion matrix\n",
    "plot_confusion_matrix(lg, X_test, y_test, cmap='Blues', values_format='d');"
   ]
  },
  {
   "cell_type": "code",
   "execution_count": 11,
   "id": "ongoing-injection",
   "metadata": {},
   "outputs": [
    {
     "name": "stdout",
     "output_type": "stream",
     "text": [
      "specificity: 0.8540723981900452\n",
      "sensitivity: 0.9400458978772231\n",
      "accuracy: 0.9028999674160965\n",
      "precision: 0.8943777292576419\n"
     ]
    }
   ],
   "source": [
    "# Calculate the specificity\n",
    "specificty = tn / (tn + fp)\n",
    "print(f'specificity: {specificty}')\n",
    "\n",
    "# Sensitivity\n",
    "sensitivity = tp / (tp + fn)\n",
    "print(f'sensitivity: {sensitivity}')\n",
    "\n",
    "# Accuracy\n",
    "accuracy = (tn + tp) / (tn + fp + fn + tp)\n",
    "print(f'accuracy: {accuracy}')\n",
    "\n",
    "# Precision\n",
    "precision = tp / (tp + fp)\n",
    "print(f'precision: {precision}')"
   ]
  },
  {
   "cell_type": "markdown",
   "id": "secondary-chorus",
   "metadata": {},
   "source": [
    "### Naïve Bayes with TFID"
   ]
  },
  {
   "cell_type": "code",
   "execution_count": 17,
   "id": "cordless-trust",
   "metadata": {},
   "outputs": [],
   "source": [
    "X_train, X_test, y_train, y_test = train_test_split(X,\n",
    "                                                    y,\n",
    "                                                    test_size=0.25,\n",
    "                                                    stratify=y,\n",
    "                                                    random_state=42)"
   ]
  },
  {
   "cell_type": "code",
   "execution_count": 18,
   "id": "honey-worry",
   "metadata": {},
   "outputs": [
    {
     "name": "stdout",
     "output_type": "stream",
     "text": [
      "Cross Val Score: 0.8851228901880906\n",
      "-----------------\n",
      "Train R2: 0.8977241866275596\n",
      "-----------------\n",
      "Test R2: 0.888237210817856\n",
      "-----------------\n",
      "Top words for weightlifing: ['weightlifting' 'just' 'https' 've' 'like' 'squat' 'com' 'lifting' 'know'\n",
      " 'weight' 'deleted' 'snatch' 'bar' 'amp' 'gym' 'clean' 'www' 'good'\n",
      " 'https www' 'looking']\n",
      "-----------------\n",
      "Top words for bodyweight training: ['ups' 'pull' 'doing' 'like' 'just' 've' 'workout' 'push' 'body' 'weight'\n",
      " 'exercises' 'pull ups' 'https' 'day' 'one' 'muscle' 'routine' 'training'\n",
      " 'want' 'know']\n"
     ]
    }
   ],
   "source": [
    "tvec = TfidfVectorizer(stop_words=custom_stop_words, \n",
    "                       max_features=5000, \n",
    "                       max_df=0.6, \n",
    "                       ngram_range=(1,2))\n",
    "\n",
    "tvec.fit(X_train)\n",
    "\n",
    "X_train = tvec.transform(X_train)\n",
    "\n",
    "X_test = tvec.transform(X_test)\n",
    "\n",
    "nb = MultinomialNB()\n",
    "\n",
    "nb.fit(X_train, y_train)\n",
    "\n",
    "print(f'Cross Val Score: {cross_val_score(nb, X_train, y_train, cv=5).mean()}') \n",
    "print('-----------------')\n",
    "print(f'Train R2: {nb.score(X_train, y_train)}')\n",
    "print('-----------------')\n",
    "print(f'Test R2: {nb.score(X_test, y_test)}')\n",
    "print('-----------------')\n",
    "\n",
    "# Finding the top 20 words for pos / neg class\n",
    "# Help from:  https://stackoverflow.com/questions/50526898/how-to-get-feature-importance-in-naive-bayes\n",
    "wl_list = nb.feature_log_prob_[0, :].argsort()[::-1]\n",
    "bw_list = nb.feature_log_prob_[1, :].argsort()[::-1]\n",
    "\n",
    "print(f'Top words for weightlifing: {np.take(tvec.get_feature_names(), wl_list[:20])}')\n",
    "print('-----------------')\n",
    "print(f'Top words for bodyweight training: {np.take(tvec.get_feature_names(), bw_list[:20])}')"
   ]
  },
  {
   "cell_type": "code",
   "execution_count": 19,
   "id": "floral-ownership",
   "metadata": {},
   "outputs": [
    {
     "data": {
      "image/png": "[encoded data removed]",
      "text/plain": [
       "<Figure size 432x288 with 2 Axes>"
      ]
     },
     "metadata": {
      "needs_background": "light"
     },
     "output_type": "display_data"
    }
   ],
   "source": [
    "# Get predictions\n",
    "pred = nb.predict(X_test)\n",
    "# Save confusion matrix values\n",
    "tn, fp, fn, tp = confusion_matrix(y_test, pred).ravel()\n",
    "\n",
    "# View confusion matrix\n",
    "plot_confusion_matrix(nb, X_test, y_test, cmap='Blues', values_format='d');"
   ]
  },
  {
   "cell_type": "code",
   "execution_count": 20,
   "id": "minor-conversation",
   "metadata": {},
   "outputs": [
    {
     "name": "stdout",
     "output_type": "stream",
     "text": [
      "specificity: 0.8239064856711915\n",
      "sensitivity: 0.9371772805507745\n",
      "accuracy: 0.888237210817856\n",
      "precision: 0.874933047670059\n"
     ]
    }
   ],
   "source": [
    "# Calculate the specificity\n",
    "specificty = tn / (tn + fp)\n",
    "print(f'specificity: {specificty}')\n",
    "\n",
    "# Sensitivity\n",
    "sensitivity = tp / (tp + fn)\n",
    "print(f'sensitivity: {sensitivity}')\n",
    "\n",
    "# Accuracy\n",
    "accuracy = (tn + tp) / (tn + fp + fn + tp)\n",
    "print(f'accuracy: {accuracy}')\n",
    "\n",
    "# Precision\n",
    "precision = tp / (tp + fp)\n",
    "print(f'precision: {precision}')"
   ]
  }
 ],
 "metadata": {
  "kernelspec": {
   "display_name": "Python 3",
   "language": "python",
   "name": "python3"
  },
  "language_info": {
   "codemirror_mode": {
    "name": "ipython",
    "version": 3
   },
   "file_extension": ".py",
   "mimetype": "text/x-python",
   "name": "python",
   "nbconvert_exporter": "python",
   "pygments_lexer": "ipython3",
   "version": "3.8.8"
  }
 },
 "nbformat": 4,
 "nbformat_minor": 5
}
