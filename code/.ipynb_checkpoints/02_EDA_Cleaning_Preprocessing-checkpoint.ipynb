{
 "cells": [
  {
   "cell_type": "markdown",
   "id": "residential-characterization",
   "metadata": {},
   "source": [
    "# EDA, Cleaning and Preprocessing"
   ]
  },
  {
   "cell_type": "markdown",
   "id": "wireless-wilson",
   "metadata": {},
   "source": [
    "This file contains further cleaning on the data.\n",
    "\n",
    "Steps were taken to:\n",
    "- Remove duplicates\n",
    "    - No duplicates were found, however, the step was still programmed in case it is necessary in the future.\n",
    "- Keep certain relevant columns\n",
    "    - Columns kept for further processing include: 'author', 'selftext' or the text of the post, 'subreddit' or which subreddit the post was scraped from, and the 'title' of the post.\n",
    "- Remove any additional unnecessary posts.\n",
    "    - Upon further examination, posts that had been deleted by an 'AutoModerator' were deleted as were those where 'is_self' was set to False.  The 'is_self'=False cases did not have an author and the content was flagged as deleted. \n",
    "    \n",
    "    \n",
    "**After the additional cleaning noted above, 24,549 posts remain in the dataframe.  Weightlifting accounted for 10,606 and bodyweightfitness accounted for 13,943 posts. This newly cleaned and pared down dataframe was exported as a csv for the next, analytic steps.**\n"
   ]
  },
  {
   "cell_type": "code",
   "execution_count": 1,
   "id": "reduced-disability",
   "metadata": {},
   "outputs": [],
   "source": [
    "import pandas as pd\n",
    "import numpy as np\n",
    "import seaborn as sns\n",
    "\n",
    "import matplotlib.pyplot as plt\n",
    "\n",
    "pd.set_option('display.max_columns', None)\n",
    "pd.set_option('display.max_rows', None)"
   ]
  },
  {
   "cell_type": "code",
   "execution_count": 2,
   "id": "rapid-diana",
   "metadata": {},
   "outputs": [
    {
     "name": "stderr",
     "output_type": "stream",
     "text": [
      "/opt/anaconda3/envs/dsi/lib/python3.8/site-packages/IPython/core/interactiveshell.py:3155: DtypeWarning: Columns (0,1,3,7,8,9,10,16,19,20,22,25,30,31,39,43,53,60,66,69,70,73,75,76,77,78,79,80,81,84,85,87,89,90,94,95,96,98,101,102,104,105,106) have mixed types.Specify dtype option on import or set low_memory=False.\n",
      "  has_raised = await self.run_ast_nodes(code_ast.body, cell_name,\n"
     ]
    }
   ],
   "source": [
    "df = pd.read_csv('../data/compiled_final.csv')\n"
   ]
  },
  {
   "cell_type": "code",
   "execution_count": 3,
   "id": "comprehensive-lender",
   "metadata": {},
   "outputs": [
    {
     "name": "stdout",
     "output_type": "stream",
     "text": [
      "pre-drop of duplicates (# rows): (26049, 107)\n",
      "post-drop of duplicates (# rows): (26049, 107)\n"
     ]
    }
   ],
   "source": [
    "print(f'pre-drop of duplicates (# rows): {df.shape}')\n",
    "\n",
    "df2 = df.drop_duplicates()\n",
    "df2.shape\n",
    "\n",
    "print(f'post-drop of duplicates (# rows): {df.shape}')"
   ]
  },
  {
   "cell_type": "code",
   "execution_count": 4,
   "id": "derived-nicaragua",
   "metadata": {},
   "outputs": [],
   "source": [
    "# columns to keep\n",
    "columns_keep =['author','is_self','is_video','removed_by_category','selftext','subreddit','title']"
   ]
  },
  {
   "cell_type": "code",
   "execution_count": 5,
   "id": "attractive-interview",
   "metadata": {},
   "outputs": [
    {
     "name": "stdout",
     "output_type": "stream",
     "text": [
      "# of rows/cols after drop: (26049, 7)\n"
     ]
    }
   ],
   "source": [
    "df = df[columns_keep]\n",
    "print(f'# of rows/cols after drop: {df.shape}')"
   ]
  },
  {
   "cell_type": "code",
   "execution_count": 6,
   "id": "suited-republican",
   "metadata": {},
   "outputs": [
    {
     "data": {
      "text/html": [
       "<div>\n",
       "<style scoped>\n",
       "    .dataframe tbody tr th:only-of-type {\n",
       "        vertical-align: middle;\n",
       "    }\n",
       "\n",
       "    .dataframe tbody tr th {\n",
       "        vertical-align: top;\n",
       "    }\n",
       "\n",
       "    .dataframe thead th {\n",
       "        text-align: right;\n",
       "    }\n",
       "</style>\n",
       "<table border=\"1\" class=\"dataframe\">\n",
       "  <thead>\n",
       "    <tr style=\"text-align: right;\">\n",
       "      <th></th>\n",
       "      <th>author</th>\n",
       "      <th>is_self</th>\n",
       "      <th>is_video</th>\n",
       "      <th>removed_by_category</th>\n",
       "      <th>selftext</th>\n",
       "      <th>subreddit</th>\n",
       "      <th>title</th>\n",
       "    </tr>\n",
       "  </thead>\n",
       "  <tbody>\n",
       "    <tr>\n",
       "      <th>0</th>\n",
       "      <td>Solfire</td>\n",
       "      <td>True</td>\n",
       "      <td>False</td>\n",
       "      <td>NaN</td>\n",
       "      <td>**HEY YOU,**\\n\\nHave you taken any recent pics...</td>\n",
       "      <td>bodyweightfitness</td>\n",
       "      <td>Sunday Show Off - Because it's perfectly fine ...</td>\n",
       "    </tr>\n",
       "    <tr>\n",
       "      <th>1</th>\n",
       "      <td>teetee9</td>\n",
       "      <td>True</td>\n",
       "      <td>False</td>\n",
       "      <td>NaN</td>\n",
       "      <td>the context that led me to ask this question i...</td>\n",
       "      <td>bodyweightfitness</td>\n",
       "      <td>what would someone who is 5 foot tall and 114 ...</td>\n",
       "    </tr>\n",
       "    <tr>\n",
       "      <th>2</th>\n",
       "      <td>Mick_Zwanikken</td>\n",
       "      <td>True</td>\n",
       "      <td>False</td>\n",
       "      <td>NaN</td>\n",
       "      <td>When I do a tucked front lever my back is not ...</td>\n",
       "      <td>bodyweightfitness</td>\n",
       "      <td>Tucked front lever not straight</td>\n",
       "    </tr>\n",
       "    <tr>\n",
       "      <th>3</th>\n",
       "      <td>Xcalisthen16</td>\n",
       "      <td>True</td>\n",
       "      <td>False</td>\n",
       "      <td>NaN</td>\n",
       "      <td>My main goals are strength and aesthetics, wou...</td>\n",
       "      <td>bodyweightfitness</td>\n",
       "      <td>Can I bulk doing the rr with weighted dips pul...</td>\n",
       "    </tr>\n",
       "    <tr>\n",
       "      <th>4</th>\n",
       "      <td>hypessv</td>\n",
       "      <td>True</td>\n",
       "      <td>False</td>\n",
       "      <td>NaN</td>\n",
       "      <td>[removed]</td>\n",
       "      <td>bodyweightfitness</td>\n",
       "      <td>Any exersices for someone with mild carpal tun...</td>\n",
       "    </tr>\n",
       "  </tbody>\n",
       "</table>\n",
       "</div>"
      ],
      "text/plain": [
       "           author  is_self  is_video removed_by_category  \\\n",
       "0         Solfire     True     False                 NaN   \n",
       "1         teetee9     True     False                 NaN   \n",
       "2  Mick_Zwanikken     True     False                 NaN   \n",
       "3    Xcalisthen16     True     False                 NaN   \n",
       "4         hypessv     True     False                 NaN   \n",
       "\n",
       "                                            selftext          subreddit  \\\n",
       "0  **HEY YOU,**\\n\\nHave you taken any recent pics...  bodyweightfitness   \n",
       "1  the context that led me to ask this question i...  bodyweightfitness   \n",
       "2  When I do a tucked front lever my back is not ...  bodyweightfitness   \n",
       "3  My main goals are strength and aesthetics, wou...  bodyweightfitness   \n",
       "4                                          [removed]  bodyweightfitness   \n",
       "\n",
       "                                               title  \n",
       "0  Sunday Show Off - Because it's perfectly fine ...  \n",
       "1  what would someone who is 5 foot tall and 114 ...  \n",
       "2                    Tucked front lever not straight  \n",
       "3  Can I bulk doing the rr with weighted dips pul...  \n",
       "4  Any exersices for someone with mild carpal tun...  "
      ]
     },
     "execution_count": 6,
     "metadata": {},
     "output_type": "execute_result"
    }
   ],
   "source": [
    "# taking a quick look at pared down df\n",
    "df.head()"
   ]
  },
  {
   "cell_type": "code",
   "execution_count": 7,
   "id": "technological-investment",
   "metadata": {},
   "outputs": [
    {
     "name": "stdout",
     "output_type": "stream",
     "text": [
      "Seeing 'removed' flags: [nan 'automod_filtered']\n",
      "Seeing 'is_self' flags: [ True False]\n",
      "Seeing 'is_video' flags: [False]\n",
      "Seeing 'subreddit' flags: ['bodyweightfitness' 'weightlifting']\n"
     ]
    }
   ],
   "source": [
    "print(f\"Seeing 'removed' flags: {df['removed_by_category'].unique()}\")\n",
    "print(f\"Seeing 'is_self' flags: {df['is_self'].unique()}\")\n",
    "print(f\"Seeing 'is_video' flags: {df['is_video'].unique()}\")\n",
    "print(f\"Seeing 'subreddit' flags: {df['subreddit'].unique()}\")"
   ]
  },
  {
   "cell_type": "code",
   "execution_count": 8,
   "id": "falling-stocks",
   "metadata": {},
   "outputs": [
    {
     "data": {
      "text/plain": [
       "(24549, 7)"
      ]
     },
     "execution_count": 8,
     "metadata": {},
     "output_type": "execute_result"
    }
   ],
   "source": [
    "# removal of rows flagged as removed by 'automod_filtered'\n",
    "df = df[df['removed_by_category'] != 'automod_filtered' ]\n",
    "\n",
    "# Removal of rows where 'is_self' = False as these seem to be ads\n",
    "df = df[df['is_self'] != False ]\n",
    "\n",
    "# Confirming there are no rows where selftext is blank\n",
    "df = df[df['selftext'] != '' ]\n",
    "df = df[df['selftext'] != '[removed]' ]\n",
    "\n",
    "df.shape"
   ]
  },
  {
   "cell_type": "code",
   "execution_count": 9,
   "id": "assigned-handbook",
   "metadata": {},
   "outputs": [
    {
     "data": {
      "text/plain": [
       "weightlifting        10606\n",
       "bodyweightfitness    13943\n",
       "Name: subreddit, dtype: int64"
      ]
     },
     "execution_count": 9,
     "metadata": {},
     "output_type": "execute_result"
    }
   ],
   "source": [
    "# seeing how many rows are in the df from each subreddit\n",
    "df['subreddit'].value_counts(ascending=True)"
   ]
  },
  {
   "cell_type": "code",
   "execution_count": 10,
   "id": "sorted-korean",
   "metadata": {},
   "outputs": [
    {
     "data": {
      "text/plain": [
       "bodyweightfitness    0.567966\n",
       "weightlifting        0.432034\n",
       "Name: subreddit, dtype: float64"
      ]
     },
     "execution_count": 10,
     "metadata": {},
     "output_type": "execute_result"
    }
   ],
   "source": [
    "df['subreddit'].value_counts(normalize=True)"
   ]
  },
  {
   "cell_type": "code",
   "execution_count": 11,
   "id": "further-camera",
   "metadata": {},
   "outputs": [
    {
     "data": {
      "text/html": [
       "<div>\n",
       "<style scoped>\n",
       "    .dataframe tbody tr th:only-of-type {\n",
       "        vertical-align: middle;\n",
       "    }\n",
       "\n",
       "    .dataframe tbody tr th {\n",
       "        vertical-align: top;\n",
       "    }\n",
       "\n",
       "    .dataframe thead th {\n",
       "        text-align: right;\n",
       "    }\n",
       "</style>\n",
       "<table border=\"1\" class=\"dataframe\">\n",
       "  <thead>\n",
       "    <tr style=\"text-align: right;\">\n",
       "      <th></th>\n",
       "      <th>author</th>\n",
       "      <th>is_self</th>\n",
       "      <th>is_video</th>\n",
       "      <th>removed_by_category</th>\n",
       "      <th>selftext</th>\n",
       "      <th>subreddit</th>\n",
       "      <th>title</th>\n",
       "    </tr>\n",
       "  </thead>\n",
       "  <tbody>\n",
       "    <tr>\n",
       "      <th>0</th>\n",
       "      <td>Solfire</td>\n",
       "      <td>True</td>\n",
       "      <td>False</td>\n",
       "      <td>NaN</td>\n",
       "      <td>**HEY YOU,**\\n\\nHave you taken any recent pics...</td>\n",
       "      <td>bodyweightfitness</td>\n",
       "      <td>Sunday Show Off - Because it's perfectly fine ...</td>\n",
       "    </tr>\n",
       "    <tr>\n",
       "      <th>1</th>\n",
       "      <td>teetee9</td>\n",
       "      <td>True</td>\n",
       "      <td>False</td>\n",
       "      <td>NaN</td>\n",
       "      <td>the context that led me to ask this question i...</td>\n",
       "      <td>bodyweightfitness</td>\n",
       "      <td>what would someone who is 5 foot tall and 114 ...</td>\n",
       "    </tr>\n",
       "    <tr>\n",
       "      <th>2</th>\n",
       "      <td>Mick_Zwanikken</td>\n",
       "      <td>True</td>\n",
       "      <td>False</td>\n",
       "      <td>NaN</td>\n",
       "      <td>When I do a tucked front lever my back is not ...</td>\n",
       "      <td>bodyweightfitness</td>\n",
       "      <td>Tucked front lever not straight</td>\n",
       "    </tr>\n",
       "    <tr>\n",
       "      <th>3</th>\n",
       "      <td>Xcalisthen16</td>\n",
       "      <td>True</td>\n",
       "      <td>False</td>\n",
       "      <td>NaN</td>\n",
       "      <td>My main goals are strength and aesthetics, wou...</td>\n",
       "      <td>bodyweightfitness</td>\n",
       "      <td>Can I bulk doing the rr with weighted dips pul...</td>\n",
       "    </tr>\n",
       "    <tr>\n",
       "      <th>5</th>\n",
       "      <td>LennyLloyd</td>\n",
       "      <td>True</td>\n",
       "      <td>False</td>\n",
       "      <td>NaN</td>\n",
       "      <td>If you're like me and 8 hours' good sleep is a...</td>\n",
       "      <td>bodyweightfitness</td>\n",
       "      <td>What do you do when 8 hours is impossible?</td>\n",
       "    </tr>\n",
       "  </tbody>\n",
       "</table>\n",
       "</div>"
      ],
      "text/plain": [
       "           author  is_self  is_video removed_by_category  \\\n",
       "0         Solfire     True     False                 NaN   \n",
       "1         teetee9     True     False                 NaN   \n",
       "2  Mick_Zwanikken     True     False                 NaN   \n",
       "3    Xcalisthen16     True     False                 NaN   \n",
       "5      LennyLloyd     True     False                 NaN   \n",
       "\n",
       "                                            selftext          subreddit  \\\n",
       "0  **HEY YOU,**\\n\\nHave you taken any recent pics...  bodyweightfitness   \n",
       "1  the context that led me to ask this question i...  bodyweightfitness   \n",
       "2  When I do a tucked front lever my back is not ...  bodyweightfitness   \n",
       "3  My main goals are strength and aesthetics, wou...  bodyweightfitness   \n",
       "5  If you're like me and 8 hours' good sleep is a...  bodyweightfitness   \n",
       "\n",
       "                                               title  \n",
       "0  Sunday Show Off - Because it's perfectly fine ...  \n",
       "1  what would someone who is 5 foot tall and 114 ...  \n",
       "2                    Tucked front lever not straight  \n",
       "3  Can I bulk doing the rr with weighted dips pul...  \n",
       "5         What do you do when 8 hours is impossible?  "
      ]
     },
     "execution_count": 11,
     "metadata": {},
     "output_type": "execute_result"
    }
   ],
   "source": [
    "df.head()"
   ]
  },
  {
   "cell_type": "code",
   "execution_count": 12,
   "id": "freelance-yugoslavia",
   "metadata": {},
   "outputs": [
    {
     "name": "stdout",
     "output_type": "stream",
     "text": [
      "# of rows/cols after drop: (24549, 4)\n"
     ]
    }
   ],
   "source": [
    "# columns to keep\n",
    "columns_keep_smaller =['author','selftext','subreddit','title']\n",
    "df = df[columns_keep_smaller]\n",
    "print(f'# of rows/cols after drop: {df.shape}')"
   ]
  },
  {
   "cell_type": "code",
   "execution_count": 13,
   "id": "numerous-accessory",
   "metadata": {},
   "outputs": [
    {
     "data": {
      "image/png": "[encoded data removed]",
      "text/plain": [
       "<Figure size 720x432 with 1 Axes>"
      ]
     },
     "metadata": {
      "needs_background": "light"
     },
     "output_type": "display_data"
    }
   ],
   "source": [
    "plt.figure(figsize=(10,6))\n",
    "\n",
    "df['subreddit'].value_counts().plot(kind = 'barh');\n",
    "\n",
    "plt.title('Distribution of subreddit posts', fontsize=22)\n",
    "\n",
    "plt.xlabel('Count of Posts', fontsize=20)\n",
    "plt.yticks(fontsize= 15)\n",
    "plt.ylabel('Subreddit', fontsize=20)\n",
    "plt.yticks(fontsize= 15, rotation=50)\n",
    "\n",
    "plt.show()"
   ]
  },
  {
   "cell_type": "code",
   "execution_count": 14,
   "id": "elect-patrick",
   "metadata": {},
   "outputs": [],
   "source": [
    "df = pd.get_dummies(data=df, columns=['subreddit'], drop_first=False)"
   ]
  },
  {
   "cell_type": "code",
   "execution_count": 16,
   "id": "consecutive-traveler",
   "metadata": {},
   "outputs": [],
   "source": [
    "df= df.drop(['subreddit_weightlifting'], axis = 1)\n"
   ]
  },
  {
   "cell_type": "code",
   "execution_count": 17,
   "id": "clear-cheat",
   "metadata": {},
   "outputs": [
    {
     "data": {
      "text/html": [
       "<div>\n",
       "<style scoped>\n",
       "    .dataframe tbody tr th:only-of-type {\n",
       "        vertical-align: middle;\n",
       "    }\n",
       "\n",
       "    .dataframe tbody tr th {\n",
       "        vertical-align: top;\n",
       "    }\n",
       "\n",
       "    .dataframe thead th {\n",
       "        text-align: right;\n",
       "    }\n",
       "</style>\n",
       "<table border=\"1\" class=\"dataframe\">\n",
       "  <thead>\n",
       "    <tr style=\"text-align: right;\">\n",
       "      <th></th>\n",
       "      <th>author</th>\n",
       "      <th>selftext</th>\n",
       "      <th>title</th>\n",
       "      <th>subreddit_bodyweightfitness</th>\n",
       "    </tr>\n",
       "  </thead>\n",
       "  <tbody>\n",
       "    <tr>\n",
       "      <th>0</th>\n",
       "      <td>Solfire</td>\n",
       "      <td>**HEY YOU,**\\n\\nHave you taken any recent pics...</td>\n",
       "      <td>Sunday Show Off - Because it's perfectly fine ...</td>\n",
       "      <td>1</td>\n",
       "    </tr>\n",
       "    <tr>\n",
       "      <th>1</th>\n",
       "      <td>teetee9</td>\n",
       "      <td>the context that led me to ask this question i...</td>\n",
       "      <td>what would someone who is 5 foot tall and 114 ...</td>\n",
       "      <td>1</td>\n",
       "    </tr>\n",
       "    <tr>\n",
       "      <th>2</th>\n",
       "      <td>Mick_Zwanikken</td>\n",
       "      <td>When I do a tucked front lever my back is not ...</td>\n",
       "      <td>Tucked front lever not straight</td>\n",
       "      <td>1</td>\n",
       "    </tr>\n",
       "    <tr>\n",
       "      <th>3</th>\n",
       "      <td>Xcalisthen16</td>\n",
       "      <td>My main goals are strength and aesthetics, wou...</td>\n",
       "      <td>Can I bulk doing the rr with weighted dips pul...</td>\n",
       "      <td>1</td>\n",
       "    </tr>\n",
       "    <tr>\n",
       "      <th>5</th>\n",
       "      <td>LennyLloyd</td>\n",
       "      <td>If you're like me and 8 hours' good sleep is a...</td>\n",
       "      <td>What do you do when 8 hours is impossible?</td>\n",
       "      <td>1</td>\n",
       "    </tr>\n",
       "  </tbody>\n",
       "</table>\n",
       "</div>"
      ],
      "text/plain": [
       "           author                                           selftext  \\\n",
       "0         Solfire  **HEY YOU,**\\n\\nHave you taken any recent pics...   \n",
       "1         teetee9  the context that led me to ask this question i...   \n",
       "2  Mick_Zwanikken  When I do a tucked front lever my back is not ...   \n",
       "3    Xcalisthen16  My main goals are strength and aesthetics, wou...   \n",
       "5      LennyLloyd  If you're like me and 8 hours' good sleep is a...   \n",
       "\n",
       "                                               title  \\\n",
       "0  Sunday Show Off - Because it's perfectly fine ...   \n",
       "1  what would someone who is 5 foot tall and 114 ...   \n",
       "2                    Tucked front lever not straight   \n",
       "3  Can I bulk doing the rr with weighted dips pul...   \n",
       "5         What do you do when 8 hours is impossible?   \n",
       "\n",
       "   subreddit_bodyweightfitness  \n",
       "0                            1  \n",
       "1                            1  \n",
       "2                            1  \n",
       "3                            1  \n",
       "5                            1  "
      ]
     },
     "execution_count": 17,
     "metadata": {},
     "output_type": "execute_result"
    }
   ],
   "source": [
    "df.head()"
   ]
  },
  {
   "cell_type": "code",
   "execution_count": null,
   "id": "dense-format",
   "metadata": {},
   "outputs": [],
   "source": []
  },
  {
   "cell_type": "code",
   "execution_count": 18,
   "id": "several-hybrid",
   "metadata": {},
   "outputs": [],
   "source": [
    "# Exporting the cleaned dataframe\n",
    "export_df = df.to_csv('../data/cleaned_final.csv', index = False) \n"
   ]
  },
  {
   "cell_type": "code",
   "execution_count": null,
   "id": "swiss-background",
   "metadata": {},
   "outputs": [],
   "source": []
  }
 ],
 "metadata": {
  "kernelspec": {
   "display_name": "Python 3",
   "language": "python",
   "name": "python3"
  },
  "language_info": {
   "codemirror_mode": {
    "name": "ipython",
    "version": 3
   },
   "file_extension": ".py",
   "mimetype": "text/x-python",
   "name": "python",
   "nbconvert_exporter": "python",
   "pygments_lexer": "ipython3",
   "version": "3.8.8"
  }
 },
 "nbformat": 4,
 "nbformat_minor": 5
}
