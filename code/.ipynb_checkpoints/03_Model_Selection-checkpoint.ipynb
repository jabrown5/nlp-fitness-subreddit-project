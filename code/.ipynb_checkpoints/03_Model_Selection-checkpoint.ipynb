{
 "cells": [
  {
   "cell_type": "markdown",
   "id": "static-bottom",
   "metadata": {},
   "source": [
    "# Model Selection"
   ]
  },
  {
   "cell_type": "markdown",
   "id": "equipped-hands",
   "metadata": {},
   "source": [
    "This file contains a variety of models with differing paramters.  It explores Logistic Regression, Naive Bayes, and Random Forest each with CountCountVectorizer() and TfidfVectorizer().  A custom stop words list is applied during this exploration as well.  After thorough examination a Logistic Regression and Naive Bayes model were selected as the 'best' performing."
   ]
  },
  {
   "cell_type": "code",
   "execution_count": 1,
   "id": "steady-factory",
   "metadata": {},
   "outputs": [],
   "source": [
    "import pandas as pd\n",
    "import numpy as np\n",
    "import seaborn as sns\n",
    "\n",
    "import matplotlib.pyplot as plt\n",
    "\n",
    "from sklearn.model_selection import train_test_split, cross_val_score, GridSearchCV\n",
    "from sklearn.pipeline import Pipeline\n",
    "from sklearn.naive_bayes import MultinomialNB\n",
    "from sklearn.linear_model import LogisticRegression\n",
    "from sklearn.metrics import confusion_matrix, plot_confusion_matrix\n",
    "\n",
    "from sklearn.ensemble import RandomForestClassifier, ExtraTreesClassifier\n",
    "\n",
    "# Import CountVectorizer and TFIDFVectorizer from feature_extraction.text.\n",
    "from sklearn.feature_extraction.text import CountVectorizer, TfidfVectorizer\n",
    "\n",
    "pd.set_option('display.max_columns', None)\n",
    "pd.set_option('display.max_rows', None)"
   ]
  },
  {
   "cell_type": "code",
   "execution_count": 2,
   "id": "funky-crisis",
   "metadata": {},
   "outputs": [
    {
     "data": {
      "text/html": [
       "<div>\n",
       "<style scoped>\n",
       "    .dataframe tbody tr th:only-of-type {\n",
       "        vertical-align: middle;\n",
       "    }\n",
       "\n",
       "    .dataframe tbody tr th {\n",
       "        vertical-align: top;\n",
       "    }\n",
       "\n",
       "    .dataframe thead th {\n",
       "        text-align: right;\n",
       "    }\n",
       "</style>\n",
       "<table border=\"1\" class=\"dataframe\">\n",
       "  <thead>\n",
       "    <tr style=\"text-align: right;\">\n",
       "      <th></th>\n",
       "      <th>author</th>\n",
       "      <th>selftext</th>\n",
       "      <th>title</th>\n",
       "      <th>subreddit_bodyweightfitness</th>\n",
       "    </tr>\n",
       "  </thead>\n",
       "  <tbody>\n",
       "    <tr>\n",
       "      <th>0</th>\n",
       "      <td>Solfire</td>\n",
       "      <td>**HEY YOU,**\\n\\nHave you taken any recent pics...</td>\n",
       "      <td>Sunday Show Off - Because it's perfectly fine ...</td>\n",
       "      <td>1</td>\n",
       "    </tr>\n",
       "    <tr>\n",
       "      <th>1</th>\n",
       "      <td>teetee9</td>\n",
       "      <td>the context that led me to ask this question i...</td>\n",
       "      <td>what would someone who is 5 foot tall and 114 ...</td>\n",
       "      <td>1</td>\n",
       "    </tr>\n",
       "  </tbody>\n",
       "</table>\n",
       "</div>"
      ],
      "text/plain": [
       "    author                                           selftext  \\\n",
       "0  Solfire  **HEY YOU,**\\n\\nHave you taken any recent pics...   \n",
       "1  teetee9  the context that led me to ask this question i...   \n",
       "\n",
       "                                               title  \\\n",
       "0  Sunday Show Off - Because it's perfectly fine ...   \n",
       "1  what would someone who is 5 foot tall and 114 ...   \n",
       "\n",
       "   subreddit_bodyweightfitness  \n",
       "0                            1  \n",
       "1                            1  "
      ]
     },
     "execution_count": 2,
     "metadata": {},
     "output_type": "execute_result"
    }
   ],
   "source": [
    "df = pd.read_csv('../data/cleaned_final.csv')\n",
    "df.head(2)"
   ]
  },
  {
   "cell_type": "code",
   "execution_count": 3,
   "id": "popular-heavy",
   "metadata": {},
   "outputs": [],
   "source": [
    "columns_keep =['selftext','subreddit']"
   ]
  },
  {
   "cell_type": "code",
   "execution_count": 4,
   "id": "final-result",
   "metadata": {},
   "outputs": [],
   "source": [
    "# creating X / features and y / outcome\n",
    "X = df['selftext']\n",
    "\n",
    "y = df['subreddit_bodyweightfitness'] \n",
    "\n"
   ]
  },
  {
   "cell_type": "code",
   "execution_count": 5,
   "id": "legendary-tradition",
   "metadata": {},
   "outputs": [
    {
     "data": {
      "text/plain": [
       "1    0.567966\n",
       "0    0.432034\n",
       "Name: subreddit_bodyweightfitness, dtype: float64"
      ]
     },
     "execution_count": 5,
     "metadata": {},
     "output_type": "execute_result"
    }
   ],
   "source": [
    "# Finding the baseline / null model\n",
    "y.value_counts(normalize=True)"
   ]
  },
  {
   "cell_type": "code",
   "execution_count": 6,
   "id": "careful-industry",
   "metadata": {},
   "outputs": [
    {
     "data": {
      "text/plain": [
       "20212461"
      ]
     },
     "execution_count": 6,
     "metadata": {},
     "output_type": "execute_result"
    }
   ],
   "source": [
    "import sys\n",
    "\n",
    "sys.getsizeof(X)"
   ]
  },
  {
   "cell_type": "code",
   "execution_count": null,
   "id": "spectacular-abuse",
   "metadata": {},
   "outputs": [],
   "source": []
  },
  {
   "cell_type": "code",
   "execution_count": 7,
   "id": "fuzzy-closing",
   "metadata": {},
   "outputs": [],
   "source": [
    "# Setting up the Train, Test split\n",
    "# using stratify=y as the samples are not exactly equal\n",
    "\n",
    "X_train, X_test, y_train, y_test = train_test_split(X,\n",
    "                                                    y,\n",
    "                                                    test_size=0.25,\n",
    "                                                    stratify=y,\n",
    "                                                    random_state=42)"
   ]
  },
  {
   "cell_type": "code",
   "execution_count": 8,
   "id": "motivated-ensemble",
   "metadata": {},
   "outputs": [
    {
     "data": {
      "text/plain": [
       "36581"
      ]
     },
     "execution_count": 8,
     "metadata": {},
     "output_type": "execute_result"
    }
   ],
   "source": [
    "# Instantiating the CountCountVectorizer()\n",
    "cvec1 = CountVectorizer()\n",
    "\n",
    "# fitting to X_train so it can learn ALL words in X_train\n",
    "cvec1.fit(X_train)\n",
    "\n",
    "# Transform the corpus.\n",
    "X_train = cvec1.transform(X_train)\n",
    "\n",
    "# transforming X_test so it also includes all columns found in X_train\n",
    "X_test = cvec1.transform(X_test)\n",
    "\n",
    "# Seeing how many features are in the df\n",
    "len(cvec1.get_feature_names())"
   ]
  },
  {
   "cell_type": "markdown",
   "id": "narrative-lending",
   "metadata": {},
   "source": [
    "### Custom Stop Words List"
   ]
  },
  {
   "cell_type": "code",
   "execution_count": 9,
   "id": "electric-percentage",
   "metadata": {},
   "outputs": [],
   "source": [
    "# reviewing the 'english' stop words\n",
    "# print(CountVectorizer(stop_words = 'english').get_stop_words())"
   ]
  },
  {
   "cell_type": "code",
   "execution_count": 10,
   "id": "understood-wales",
   "metadata": {},
   "outputs": [],
   "source": [
    "# creating a custom stop word list as some words could be fitness related (one, two, ten, etc.)\n",
    "custom_stop_words = ['were', 'not', 'still', 'inc', 'see', 'all', 'beforehand', 'whether', 'under', 'either', 'over', \n",
    "                   'to', 'can', 'herself', 'detail', 'on', 'rather', 'nothing', 'etc', 'upon', 'being', 'ours',  \n",
    "                   'yours', 'noone', 'ourselves', 'have', 'an', 'co', 'bottom', 'alone', 'above', 'some', 'further', \n",
    "                   'however', 'could', 'why', 'who', 'us', 'anyway', 'most', 'everything', 'towards', 'his', 'anyone', 'same', \n",
    "                   'whole', 'nowhere', 'thus', 'across', 'find', 'mill', 'anyhow', 'next', 'seems', 'eg', 'made', \n",
    "                   'wherein', 'seeming', 'besides', 'whence', 'where', 'against', 'enough', 'amoungst', 'whatever', 'might', \n",
    "                   'when', 'he', 'back', 'hereby', 'namely', 'top', 'should', 'toward', 'take', 'ie', 'less', 'somewhere', \n",
    "                   'fill', 'together', 'our', 'sometime', 'himself', 'mine', 'cry', 'please', 'is', 'anywhere', 'ltd', \n",
    "                   'became', 'nobody', 'yourselves', 'therefore', 'beside', 'couldnt', 'then', 'somehow', 'whoever', \n",
    "                   'everywhere', 'put', 'below', 'than', 'onto', 'bill', 'done', 'hasnt', 'though', 'whereupon', 'due', 'until', \n",
    "                   'nor', 'themselves', 'as', 'after', 'fire', 'has', 'was', 'formerly', 'thick', 'by', 'herein', \n",
    "                   'more', 'in', 'another', 'elsewhere', 'meanwhile', 'otherwise', 'which', \n",
    "                   'much', 'amongst', 'cannot', 'would', 'here', 'if', 'cant', 'had', 'moreover', 'again', \n",
    "                   'describe', 'con', 'latterly', 'get', 'hereafter', 'front', 'other', 'mostly', 'thereafter', 'whereas', \n",
    "                   'ever', 'of', 'latter', 'the', 'both', 'while', 'even', 'become', 'or', 'per', 'your', 'yourself', \n",
    "                   'nevertheless', 'itself', 'thence', 'are', 'but', 'now', 'what', 'almost', 'those', 'own', \n",
    "                   'call', 'de', 'often', 'none', 'you', 'empty', 'for', 'give', 'through', 'un', 'whither', \n",
    "                   'very', 'thereupon', 'up', 'many', 'never', 'since', 'am', 'these', 'between', 'during', 'show', 'before', \n",
    "                   'sometimes', 'hers', 'myself', 'sincere', 'once', 'this', 'too', 'becomes', 'do', 'each', 'whenever', \n",
    "                   'around', 'thereby', 'whereby', 'with', 'afterwards', 'will', 'although', 'we', 'how', 'yet', \n",
    "                   'because', 'be', 'that', 'found', 'i', 'already', 'out', 'keep', 'hence', 'becoming', 'may', 'throughout', \n",
    "                   'something', 'such', 'her', 'beyond', 'only', 'from', 'anything', 'off', 'else', 'along', \n",
    "                   'neither', 'seemed', 'there', 'about', 'among', 'always', 'few', 're', 'also', 'seem', 'into', \n",
    "                   'go', 'thru', 'hereupon', 'no', 'at', 'serious', 'former', 'any', 'they', 'their', 'name',  \n",
    "                   'everyone', 'part', 'me', 'it', 'so', 'side', 'perhaps', 'whose', 'my', 'someone', 'interest', 'she', \n",
    "                   'wherever', 'within', 'been', 'its', 'him', 'indeed', 'others', 'and', 'whereafter', 'except', 'least', \n",
    "                   'behind', 'a', 'them', 'via', 'therein', 'system', 'well', 'without', 'must', 'whom']"
   ]
  },
  {
   "cell_type": "markdown",
   "id": "sitting-studio",
   "metadata": {},
   "source": [
    "### Creating a pre stop-word removal word distribution"
   ]
  },
  {
   "cell_type": "code",
   "execution_count": 11,
   "id": "recorded-employment",
   "metadata": {},
   "outputs": [
    {
     "data": {
      "text/plain": [
       "<Figure size 936x936 with 0 Axes>"
      ]
     },
     "metadata": {},
     "output_type": "display_data"
    },
    {
     "data": {
      "image/png": "[encoded data removed]",
      "text/plain": [
       "<Figure size 720x432 with 1 Axes>"
      ]
     },
     "metadata": {
      "needs_background": "light"
     },
     "output_type": "display_data"
    }
   ],
   "source": [
    "# Convert X_train into a df to be able to visualize most used words.\n",
    "# fig = plt.figure(figsize = (13,13))\n",
    "\n",
    "X_train_vis_1 = pd.DataFrame(X_train.todense(), \n",
    "                          columns=cvec1.get_feature_names())\n",
    "\n",
    "# plot top occuring words\n",
    "plt.figure(figsize=(10,6))\n",
    "\n",
    "X_train_vis_1.sum().sort_values(ascending=False).head(20).plot(kind='barh')\n",
    "\n",
    "plt.title('Word Frequency Pre Stop Word Removal', fontsize=22)\n",
    "\n",
    "plt.xlabel('Count', fontsize=20)\n",
    "plt.yticks(fontsize= 15)\n",
    "plt.ylabel('Word', fontsize=20)\n",
    "plt.yticks(fontsize= 15)\n",
    "\n",
    "\n",
    "plt.show()\n",
    "\n",
    "# fig.savefig('../assets/pre_stop.jpg', dpi=75)"
   ]
  },
  {
   "cell_type": "code",
   "execution_count": null,
   "id": "accurate-compromise",
   "metadata": {},
   "outputs": [],
   "source": []
  },
  {
   "cell_type": "markdown",
   "id": "thousand-insert",
   "metadata": {},
   "source": [
    "### Creating a post stop-word removal word distribution"
   ]
  },
  {
   "cell_type": "code",
   "execution_count": 12,
   "id": "exempt-clothing",
   "metadata": {},
   "outputs": [
    {
     "data": {
      "text/plain": [
       "36303"
      ]
     },
     "execution_count": 12,
     "metadata": {},
     "output_type": "execute_result"
    }
   ],
   "source": [
    "X_train, X_test, y_train, y_test = train_test_split(X,\n",
    "                                                    y,\n",
    "                                                    test_size=0.25,\n",
    "                                                    stratify=y,\n",
    "                                                    random_state=42)\n",
    "\n",
    "# Instantiating the CountCountVectorizer()\n",
    "cvec2 = CountVectorizer(stop_words=custom_stop_words)\n",
    "\n",
    "# fitting to X_train so it can learn ALL words in X_train\n",
    "# MINUS the revised stop words list\n",
    "cvec2.fit(X_train)\n",
    "\n",
    "# Transform the corpus.\n",
    "X_train = cvec2.transform(X_train)\n",
    "\n",
    "# transforming X_test so it also includes all columns found in X_train\n",
    "X_test = cvec2.transform(X_test)\n",
    "\n",
    "# Seeing how many features are in the df MINUS revised stop words\n",
    "len(cvec2.get_feature_names())"
   ]
  },
  {
   "cell_type": "code",
   "execution_count": 15,
   "id": "attached-criticism",
   "metadata": {},
   "outputs": [
    {
     "data": {
      "text/plain": [
       "<Figure size 936x936 with 0 Axes>"
      ]
     },
     "metadata": {},
     "output_type": "display_data"
    },
    {
     "data": {
      "image/png": "[encoded data removed]",
      "text/plain": [
       "<Figure size 720x432 with 1 Axes>"
      ]
     },
     "metadata": {
      "needs_background": "light"
     },
     "output_type": "display_data"
    }
   ],
   "source": [
    "# Convert X_train into a df to be able to visualize most used words MINUS stop words\n",
    "# fig = plt.figure(figsize = (13,13))\n",
    "\n",
    "X_train_vis_2 = pd.DataFrame(X_train.todense(), \n",
    "                          columns=cvec2.get_feature_names())\n",
    "\n",
    "# plot top occuring words\n",
    "plt.figure(figsize=(10,6))\n",
    "\n",
    "X_train_vis_2.sum().sort_values(ascending=False).head(20).plot(kind='barh')\n",
    "\n",
    "plt.title('Word Frequency Post Stop Word Removal', fontsize=22)\n",
    "\n",
    "plt.xlabel('Count', fontsize=20)\n",
    "plt.yticks(fontsize= 15)\n",
    "plt.ylabel('Word', fontsize=20)\n",
    "plt.yticks(fontsize= 15)\n",
    "\n",
    "\n",
    "plt.show()\n",
    "\n",
    "# fig.savefig('../assets/post_stop.jpg')"
   ]
  },
  {
   "cell_type": "markdown",
   "id": "accurate-witness",
   "metadata": {},
   "source": [
    "### Multinomial Bayes with CVEC"
   ]
  },
  {
   "cell_type": "code",
   "execution_count": 70,
   "id": "naked-secret",
   "metadata": {},
   "outputs": [],
   "source": [
    "X_train, X_test, y_train, y_test = train_test_split(X,\n",
    "                                                    y,\n",
    "                                                    test_size=0.25,\n",
    "                                                    stratify=y,\n",
    "                                                    random_state=42)"
   ]
  },
  {
   "cell_type": "code",
   "execution_count": 71,
   "id": "handy-marketplace",
   "metadata": {},
   "outputs": [],
   "source": [
    "# setting up some variables & a dict to keep track of\n",
    "# how models are performing\n",
    "# Guidance from : Random Forests and Extra Trees Lesson\n",
    "count = 0\n",
    "model_params = {}"
   ]
  },
  {
   "cell_type": "code",
   "execution_count": 72,
   "id": "awful-timing",
   "metadata": {},
   "outputs": [
    {
     "name": "stdout",
     "output_type": "stream",
     "text": [
      "Fitting 3 folds for each of 36 candidates, totalling 108 fits\n",
      "Train R2: 0.8961490413339851\n",
      "-----------------\n",
      "Test R2: 0.8885630498533724\n"
     ]
    },
    {
     "data": {
      "text/html": [
       "<div>\n",
       "<style scoped>\n",
       "    .dataframe tbody tr th:only-of-type {\n",
       "        vertical-align: middle;\n",
       "    }\n",
       "\n",
       "    .dataframe tbody tr th {\n",
       "        vertical-align: top;\n",
       "    }\n",
       "\n",
       "    .dataframe thead th {\n",
       "        text-align: right;\n",
       "    }\n",
       "</style>\n",
       "<table border=\"1\" class=\"dataframe\">\n",
       "  <thead>\n",
       "    <tr style=\"text-align: right;\">\n",
       "      <th></th>\n",
       "      <th>cvec__max_df</th>\n",
       "      <th>cvec__max_features</th>\n",
       "      <th>cvec__ngram_range</th>\n",
       "      <th>score</th>\n",
       "    </tr>\n",
       "  </thead>\n",
       "  <tbody>\n",
       "    <tr>\n",
       "      <th>model_1</th>\n",
       "      <td>0.6</td>\n",
       "      <td>5000</td>\n",
       "      <td>(1, 1)</td>\n",
       "      <td>0.887947</td>\n",
       "    </tr>\n",
       "  </tbody>\n",
       "</table>\n",
       "</div>"
      ],
      "text/plain": [
       "         cvec__max_df  cvec__max_features cvec__ngram_range     score\n",
       "model_1           0.6                5000            (1, 1)  0.887947"
      ]
     },
     "execution_count": 72,
     "metadata": {},
     "output_type": "execute_result"
    }
   ],
   "source": [
    "\n",
    "\n",
    "\n",
    "# cvec_pipe_lr = Pipeline([\n",
    "#     ('cvec' , CountVectorizer(stop_words=custom_stop_words)),\n",
    "#     ('lr', LogisticRegression(max_iter=1000))\n",
    "# ])\n",
    "pipe = Pipeline([\n",
    "    ('cvec' , CountVectorizer(stop_words=custom_stop_words)),\n",
    "    ('nb' , MultinomialNB())\n",
    "])\n",
    "\n",
    "# SOURCE: NLP II Lesson\n",
    "# You can set max_features to only include the  𝑁  most popular vocabulary words in the corpus.\n",
    "# cvec = CountVectorizer(max_features=1_000)\n",
    "# You can tell CountVectorizer to only consider words that occur in at least some number of documents.\n",
    "# cvec = CountVectorizer(min_df=2)\n",
    "# Conversely, you can tell CountVectorizer to only consider words that occur in at most some percentage of documents\n",
    "# cvec = CountVectorizer(max_df=.98)\n",
    "\n",
    "pipe_params = {\n",
    "    'cvec__max_features' : [3000, 4000, 5000],\n",
    "#     'cvec__min_df' : [500, 750],\n",
    "    'cvec__max_df' : [0.6, 0.7, 0.8, 0.9],\n",
    "    'cvec__ngram_range' : [(1, 1),(1,2),(1,3)]\n",
    "}\n",
    "\n",
    "# Instantiate GridSearchCV.\n",
    "gs = GridSearchCV(pipe, \n",
    "                  param_grid=pipe_params, \n",
    "                  cv=3, # 3-fold cross-validation.\n",
    "                  verbose=1) \n",
    "\n",
    "# Fitting the gridsearch\n",
    "gs.fit(X_train, y_train)\n",
    "\n",
    "# every time i fit a new model, i will create a count\n",
    "count += 1\n",
    "\n",
    "# # Best Score\n",
    "# gs.best_score_\n",
    "\n",
    "gs.best_params_['score'] = gs.best_score_\n",
    "model_params[f'model_{count}'] = gs.best_params_\n",
    "\n",
    "model_df = pd.DataFrame.from_dict(model_params, orient='index')\n",
    "\n",
    "print(f'Train R2: {gs.score(X_train, y_train)}')\n",
    "print('-----------------')\n",
    "print(f'Test R2: {gs.score(X_test, y_test)}')\n",
    "\n",
    "\n",
    "model_df"
   ]
  },
  {
   "cell_type": "code",
   "execution_count": 73,
   "id": "elegant-south",
   "metadata": {},
   "outputs": [
    {
     "data": {
      "image/png": "[encoded data removed]",
      "text/plain": [
       "<Figure size 432x288 with 2 Axes>"
      ]
     },
     "metadata": {
      "needs_background": "light"
     },
     "output_type": "display_data"
    }
   ],
   "source": [
    "# Get predictions\n",
    "pred = gs.predict(X_test)\n",
    "# Save confusion matrix values\n",
    "tn, fp, fn, tp = confusion_matrix(y_test, pred).ravel()\n",
    "\n",
    "# View confusion matrix\n",
    "plot_confusion_matrix(gs, X_test, y_test, cmap='Blues', values_format='d');"
   ]
  },
  {
   "cell_type": "code",
   "execution_count": 74,
   "id": "silver-vegetable",
   "metadata": {},
   "outputs": [
    {
     "name": "stdout",
     "output_type": "stream",
     "text": [
      "specificity: 0.8461538461538461\n",
      "sensitivity: 0.9208261617900172\n",
      "accuracy: 0.8885630498533724\n",
      "precision: 0.8872305140961857\n"
     ]
    }
   ],
   "source": [
    "# Calculate the specificity\n",
    "specificty = tn / (tn + fp)\n",
    "print(f'specificity: {specificty}')\n",
    "\n",
    "# Sensitivity\n",
    "sensitivity = tp / (tp + fn)\n",
    "print(f'sensitivity: {sensitivity}')\n",
    "\n",
    "# Accuracy\n",
    "accuracy = (tn + tp) / (tn + fp + fn + tp)\n",
    "print(f'accuracy: {accuracy}')\n",
    "\n",
    "# Precision\n",
    "precision = tp / (tp + fp)\n",
    "print(f'precision: {precision}')"
   ]
  },
  {
   "cell_type": "markdown",
   "id": "happy-bruce",
   "metadata": {},
   "source": [
    "### Multinomial Bayes with TFID"
   ]
  },
  {
   "cell_type": "code",
   "execution_count": 78,
   "id": "cubic-abuse",
   "metadata": {},
   "outputs": [],
   "source": [
    "X_train, X_test, y_train, y_test = train_test_split(X,\n",
    "                                                    y,\n",
    "                                                    test_size=0.25,\n",
    "                                                    stratify=y,\n",
    "                                                    random_state=42)"
   ]
  },
  {
   "cell_type": "code",
   "execution_count": 79,
   "id": "little-semiconductor",
   "metadata": {},
   "outputs": [],
   "source": [
    "# setting up some variables & a dict to keep track of\n",
    "# how models are performing\n",
    "# Guidance from : Random Forests and Extra Trees Lesson\n",
    "count = 0\n",
    "model_params = {}"
   ]
  },
  {
   "cell_type": "code",
   "execution_count": 80,
   "id": "common-process",
   "metadata": {},
   "outputs": [
    {
     "name": "stdout",
     "output_type": "stream",
     "text": [
      "Fitting 3 folds for each of 36 candidates, totalling 108 fits\n",
      "Train R2: 0.8977241866275596\n",
      "-----------------\n",
      "Test R2: 0.888237210817856\n"
     ]
    },
    {
     "data": {
      "text/html": [
       "<div>\n",
       "<style scoped>\n",
       "    .dataframe tbody tr th:only-of-type {\n",
       "        vertical-align: middle;\n",
       "    }\n",
       "\n",
       "    .dataframe tbody tr th {\n",
       "        vertical-align: top;\n",
       "    }\n",
       "\n",
       "    .dataframe thead th {\n",
       "        text-align: right;\n",
       "    }\n",
       "</style>\n",
       "<table border=\"1\" class=\"dataframe\">\n",
       "  <thead>\n",
       "    <tr style=\"text-align: right;\">\n",
       "      <th></th>\n",
       "      <th>tvec__max_df</th>\n",
       "      <th>tvec__max_features</th>\n",
       "      <th>tvec__ngram_range</th>\n",
       "      <th>score</th>\n",
       "    </tr>\n",
       "  </thead>\n",
       "  <tbody>\n",
       "    <tr>\n",
       "      <th>model_1</th>\n",
       "      <td>0.6</td>\n",
       "      <td>5000</td>\n",
       "      <td>(1, 2)</td>\n",
       "      <td>0.885014</td>\n",
       "    </tr>\n",
       "  </tbody>\n",
       "</table>\n",
       "</div>"
      ],
      "text/plain": [
       "         tvec__max_df  tvec__max_features tvec__ngram_range     score\n",
       "model_1           0.6                5000            (1, 2)  0.885014"
      ]
     },
     "execution_count": 80,
     "metadata": {},
     "output_type": "execute_result"
    }
   ],
   "source": [
    "\n",
    "pipe = Pipeline([\n",
    "    ('tvec' , TfidfVectorizer(stop_words=custom_stop_words)),\n",
    "    ('nb' , MultinomialNB())\n",
    "])\n",
    "\n",
    "# SOURCE: NLP II Lesson\n",
    "# You can set max_features to only include the  𝑁  most popular vocabulary words in the corpus.\n",
    "# cvec = CountVectorizer(max_features=1_000)\n",
    "# You can tell CountVectorizer to only consider words that occur in at least some number of documents.\n",
    "# cvec = CountVectorizer(min_df=2)\n",
    "# Conversely, you can tell CountVectorizer to only consider words that occur in at most some percentage of documents\n",
    "# cvec = CountVectorizer(max_df=.98)\n",
    "\n",
    "pipe_params = {\n",
    "    'tvec__max_features' : [3000, 4000, 5000],\n",
    "#     'cvec__min_df' : [500, 750],\n",
    "    'tvec__max_df' : [0.6, 0.7, 0.8, 0.9],\n",
    "    'tvec__ngram_range' : [(1, 1),(1,2),(1,3)]\n",
    "}\n",
    "\n",
    "\n",
    "# Instantiate GridSearchCV.\n",
    "gs = GridSearchCV(pipe, \n",
    "                  param_grid=pipe_params, \n",
    "                  cv=3, # 3-fold cross-validation.\n",
    "                  verbose=1) \n",
    "\n",
    "# Fitting the gridsearch\n",
    "gs.fit(X_train, y_train)\n",
    "\n",
    "# every time i fit a new model, i will add to count count\n",
    "count += 1\n",
    "\n",
    "gs.best_params_['score'] = gs.best_score_\n",
    "model_params[f'model_{count}'] = gs.best_params_\n",
    "\n",
    "model_df = pd.DataFrame.from_dict(model_params, orient='index')\n",
    "\n",
    "print(f'Train R2: {gs.score(X_train, y_train)}')\n",
    "print('-----------------')\n",
    "print(f'Test R2: {gs.score(X_test, y_test)}')\n",
    "\n",
    "\n",
    "model_df"
   ]
  },
  {
   "cell_type": "code",
   "execution_count": 81,
   "id": "talented-elite",
   "metadata": {},
   "outputs": [
    {
     "data": {
      "image/png": "[encoded data removed]",
      "text/plain": [
       "<Figure size 432x288 with 2 Axes>"
      ]
     },
     "metadata": {
      "needs_background": "light"
     },
     "output_type": "display_data"
    }
   ],
   "source": [
    "# Get predictions\n",
    "pred = gs.predict(X_test)\n",
    "# Save confusion matrix values\n",
    "tn, fp, fn, tp = confusion_matrix(y_test, pred).ravel()\n",
    "\n",
    "# View confusion matrix\n",
    "plot_confusion_matrix(gs, X_test, y_test, cmap='Blues', values_format='d');"
   ]
  },
  {
   "cell_type": "code",
   "execution_count": 82,
   "id": "important-indonesia",
   "metadata": {},
   "outputs": [
    {
     "name": "stdout",
     "output_type": "stream",
     "text": [
      "specificity: 0.8239064856711915\n",
      "sensitivity: 0.9371772805507745\n",
      "accuracy: 0.888237210817856\n",
      "precision: 0.874933047670059\n"
     ]
    }
   ],
   "source": [
    "# Calculate the specificity\n",
    "specificty = tn / (tn + fp)\n",
    "print(f'specificity: {specificty}')\n",
    "\n",
    "# Sensitivity\n",
    "sensitivity = tp / (tp + fn)\n",
    "print(f'sensitivity: {sensitivity}')\n",
    "\n",
    "# Accuracy\n",
    "accuracy = (tn + tp) / (tn + fp + fn + tp)\n",
    "print(f'accuracy: {accuracy}')\n",
    "\n",
    "# Precision\n",
    "precision = tp / (tp + fp)\n",
    "print(f'precision: {precision}')"
   ]
  },
  {
   "cell_type": "markdown",
   "id": "cheap-reggae",
   "metadata": {},
   "source": [
    "## Logistic Regression and CVEC"
   ]
  },
  {
   "cell_type": "code",
   "execution_count": 20,
   "id": "authorized-poker",
   "metadata": {},
   "outputs": [],
   "source": [
    "X_train, X_test, y_train, y_test = train_test_split(X,\n",
    "                                                    y,\n",
    "                                                    test_size=0.25,\n",
    "                                                    stratify=y,\n",
    "                                                    random_state=42)"
   ]
  },
  {
   "cell_type": "code",
   "execution_count": 21,
   "id": "sealed-banking",
   "metadata": {},
   "outputs": [],
   "source": [
    "# setting up some variables & a dict to keep track of\n",
    "# how models are performing\n",
    "# Guidance from : Random Forests and Extra Trees Lesson\n",
    "count = 0\n",
    "model_params = {}"
   ]
  },
  {
   "cell_type": "code",
   "execution_count": 34,
   "id": "particular-component",
   "metadata": {},
   "outputs": [
    {
     "name": "stdout",
     "output_type": "stream",
     "text": [
      "Fitting 3 folds for each of 24 candidates, totalling 72 fits\n"
     ]
    },
    {
     "data": {
      "text/html": [
       "<div>\n",
       "<style scoped>\n",
       "    .dataframe tbody tr th:only-of-type {\n",
       "        vertical-align: middle;\n",
       "    }\n",
       "\n",
       "    .dataframe tbody tr th {\n",
       "        vertical-align: top;\n",
       "    }\n",
       "\n",
       "    .dataframe thead th {\n",
       "        text-align: right;\n",
       "    }\n",
       "</style>\n",
       "<table border=\"1\" class=\"dataframe\">\n",
       "  <thead>\n",
       "    <tr style=\"text-align: right;\">\n",
       "      <th></th>\n",
       "      <th>cvec__max_df</th>\n",
       "      <th>cvec__max_features</th>\n",
       "      <th>cvec__ngram_range</th>\n",
       "      <th>score</th>\n",
       "      <th>cvec__min_df</th>\n",
       "    </tr>\n",
       "  </thead>\n",
       "  <tbody>\n",
       "    <tr>\n",
       "      <th>model_1</th>\n",
       "      <td>0.90</td>\n",
       "      <td>4000</td>\n",
       "      <td>(1, 1)</td>\n",
       "      <td>0.882462</td>\n",
       "      <td>NaN</td>\n",
       "    </tr>\n",
       "    <tr>\n",
       "      <th>model_3</th>\n",
       "      <td>0.80</td>\n",
       "      <td>5000</td>\n",
       "      <td>(1, 1)</td>\n",
       "      <td>0.884308</td>\n",
       "      <td>NaN</td>\n",
       "    </tr>\n",
       "    <tr>\n",
       "      <th>model_4</th>\n",
       "      <td>0.70</td>\n",
       "      <td>5000</td>\n",
       "      <td>(1, 1)</td>\n",
       "      <td>0.884308</td>\n",
       "      <td>NaN</td>\n",
       "    </tr>\n",
       "    <tr>\n",
       "      <th>model_5</th>\n",
       "      <td>0.55</td>\n",
       "      <td>5000</td>\n",
       "      <td>(1, 1)</td>\n",
       "      <td>0.884308</td>\n",
       "      <td>NaN</td>\n",
       "    </tr>\n",
       "    <tr>\n",
       "      <th>model_2</th>\n",
       "      <td>NaN</td>\n",
       "      <td>3000</td>\n",
       "      <td>(1, 2)</td>\n",
       "      <td>0.831351</td>\n",
       "      <td>500.0</td>\n",
       "    </tr>\n",
       "  </tbody>\n",
       "</table>\n",
       "</div>"
      ],
      "text/plain": [
       "         cvec__max_df  cvec__max_features cvec__ngram_range     score  \\\n",
       "model_1          0.90                4000            (1, 1)  0.882462   \n",
       "model_3          0.80                5000            (1, 1)  0.884308   \n",
       "model_4          0.70                5000            (1, 1)  0.884308   \n",
       "model_5          0.55                5000            (1, 1)  0.884308   \n",
       "model_2           NaN                3000            (1, 2)  0.831351   \n",
       "\n",
       "         cvec__min_df  \n",
       "model_1           NaN  \n",
       "model_3           NaN  \n",
       "model_4           NaN  \n",
       "model_5           NaN  \n",
       "model_2         500.0  "
      ]
     },
     "execution_count": 34,
     "metadata": {},
     "output_type": "execute_result"
    }
   ],
   "source": [
    "cvec_pipe_lr = Pipeline([\n",
    "    ('cvec' , CountVectorizer(stop_words=custom_stop_words)),\n",
    "    ('lr', LogisticRegression(max_iter=1000))\n",
    "])\n",
    "\n",
    "# SOURCE: NLP II Lesson\n",
    "# You can set max_features to only include the  𝑁  most popular vocabulary words in the corpus.\n",
    "# cvec = CountVectorizer(max_features=1_000)\n",
    "# You can tell CountVectorizer to only consider words that occur in at least some number of documents.\n",
    "# cvec = CountVectorizer(min_df=2)\n",
    "# Conversely, you can tell CountVectorizer to only consider words that occur in at most some percentage of documents\n",
    "# cvec = CountVectorizer(max_df=.98)\n",
    "\n",
    "pipe_params = {\n",
    "    'cvec__max_features' : [2000, 3000, 4000, 5000],\n",
    "#     'cvec__min_df' : [500, 750],\n",
    "    'cvec__max_df' : [0.55, 0.6, 0.65],\n",
    "    'cvec__ngram_range' : [(1, 1),(1,2)]\n",
    "}\n",
    "\n",
    "# Instantiate GridSearchCV.\n",
    "gs = GridSearchCV(estimator = cvec_pipe_lr, # what object are we optimizing?\n",
    "                  param_grid=pipe_params, # what parameters values are we searching?\n",
    "                  cv=3, # 3-fold cross-validation.\n",
    "                  verbose=1) \n",
    "\n",
    "# Fitting the gridsearch\n",
    "gs.fit(X_train, y_train)\n",
    "\n",
    "# every time i fit a new model, i will create a count\n",
    "count += 1\n",
    "\n",
    "# # Best Score\n",
    "# gs.best_score_\n",
    "\n",
    "gs.best_params_['score'] = gs.best_score_\n",
    "model_params[f'model_{count}'] = gs.best_params_\n",
    "\n",
    "model_df = pd.DataFrame.from_dict(model_params, orient='index')\n",
    "\n",
    "print(f'Train R2: {gs.score(X_train, y_train)}')\n",
    "print('-----------------')\n",
    "print(f'Test R2: {gs.score(X_test, y_test)}')\n",
    "\n",
    "model_df"
   ]
  },
  {
   "cell_type": "code",
   "execution_count": 35,
   "id": "limited-contributor",
   "metadata": {},
   "outputs": [
    {
     "data": {
      "text/plain": [
       "0.9620878822443105"
      ]
     },
     "execution_count": 35,
     "metadata": {},
     "output_type": "execute_result"
    }
   ],
   "source": [
    "gs.score(X_train, y_train)"
   ]
  },
  {
   "cell_type": "code",
   "execution_count": 40,
   "id": "centered-voltage",
   "metadata": {},
   "outputs": [
    {
     "name": "stdout",
     "output_type": "stream",
     "text": [
      "Train R2: 0.9620878822443105\n",
      "Test R2: 0.8859563375692407\n"
     ]
    }
   ],
   "source": [
    "print(f'Train R2: {gs.score(X_train, y_train)}')\n",
    "print(f'Test R2: {gs.score(X_test, y_test)}')"
   ]
  },
  {
   "cell_type": "code",
   "execution_count": 36,
   "id": "brown-arthritis",
   "metadata": {},
   "outputs": [],
   "source": [
    "# Get predictions\n",
    "pred = gs.predict(X_test)\n",
    "# Save confusion matrix values\n",
    "tn, fp, fn, tp = confusion_matrix(y_test, pred).ravel()"
   ]
  },
  {
   "cell_type": "code",
   "execution_count": 37,
   "id": "civil-lemon",
   "metadata": {},
   "outputs": [
    {
     "data": {
      "image/png": "[encoded data removed]",
      "text/plain": [
       "<Figure size 432x288 with 2 Axes>"
      ]
     },
     "metadata": {
      "needs_background": "light"
     },
     "output_type": "display_data"
    }
   ],
   "source": [
    "# View confusion matrix\n",
    "plot_confusion_matrix(gs, X_test, y_test, cmap='Blues', values_format='d');"
   ]
  },
  {
   "cell_type": "code",
   "execution_count": 38,
   "id": "cheap-darwin",
   "metadata": {},
   "outputs": [
    {
     "data": {
      "text/plain": [
       "0.8499245852187028"
      ]
     },
     "execution_count": 38,
     "metadata": {},
     "output_type": "execute_result"
    }
   ],
   "source": [
    "# Calculate the specificity\n",
    "specificty = tn / (tn + fp)\n",
    "print(f'specificity: {specificty}')\n",
    "\n",
    "# Sensitivity\n",
    "sensitivity = tp / (tp + fn)\n",
    "print(f'sensitivity: {sensitivity}')\n",
    "\n",
    "# Accuracy\n",
    "accuracy = (tn + tp) / (tn + fp + fn + tp)\n",
    "print(f'accuracy: {accuracy}')\n",
    "\n",
    "# Precision\n",
    "precision = tp / (tp + fp)\n",
    "print(f'precision: {precision}')"
   ]
  },
  {
   "cell_type": "markdown",
   "id": "statistical-samoa",
   "metadata": {},
   "source": [
    "## Logistic Regression with TfidVectorizer"
   ]
  },
  {
   "cell_type": "code",
   "execution_count": 28,
   "id": "funded-marketing",
   "metadata": {},
   "outputs": [],
   "source": [
    "# setting up some variables & a dict to keep track of\n",
    "# how models are performing\n",
    "# Guidance from : Random Forests and Extra Trees Lesson\n",
    "count_t = 0\n",
    "model_params_t = {}"
   ]
  },
  {
   "cell_type": "code",
   "execution_count": 29,
   "id": "medical-denial",
   "metadata": {},
   "outputs": [
    {
     "name": "stdout",
     "output_type": "stream",
     "text": [
      "Fitting 3 folds for each of 2 candidates, totalling 6 fits\n"
     ]
    },
    {
     "data": {
      "text/html": [
       "<div>\n",
       "<style scoped>\n",
       "    .dataframe tbody tr th:only-of-type {\n",
       "        vertical-align: middle;\n",
       "    }\n",
       "\n",
       "    .dataframe tbody tr th {\n",
       "        vertical-align: top;\n",
       "    }\n",
       "\n",
       "    .dataframe thead th {\n",
       "        text-align: right;\n",
       "    }\n",
       "</style>\n",
       "<table border=\"1\" class=\"dataframe\">\n",
       "  <thead>\n",
       "    <tr style=\"text-align: right;\">\n",
       "      <th></th>\n",
       "      <th>tvec__max_df</th>\n",
       "      <th>tvec__max_features</th>\n",
       "      <th>tvec__ngram_range</th>\n",
       "      <th>score</th>\n",
       "    </tr>\n",
       "  </thead>\n",
       "  <tbody>\n",
       "    <tr>\n",
       "      <th>model_1</th>\n",
       "      <td>0.5</td>\n",
       "      <td>4000</td>\n",
       "      <td>(1, 1)</td>\n",
       "      <td>0.895552</td>\n",
       "    </tr>\n",
       "  </tbody>\n",
       "</table>\n",
       "</div>"
      ],
      "text/plain": [
       "         tvec__max_df  tvec__max_features tvec__ngram_range     score\n",
       "model_1           0.5                4000            (1, 1)  0.895552"
      ]
     },
     "execution_count": 29,
     "metadata": {},
     "output_type": "execute_result"
    }
   ],
   "source": [
    "tvec_pipe_lr = Pipeline([\n",
    "    ('tvec', TfidfVectorizer(stop_words=custom_stop_words)), # transformer\n",
    "    ('lr', LogisticRegression()) # model / estimator\n",
    "])\n",
    "\n",
    "pipe_params_t = {\n",
    "    'tvec__max_features' : [4000, 5000, 6000, 7000],\n",
    "    'tvec__ngram_range' : [(1, 1), (1, 2), (1, 3)],\n",
    "    'tvec__max_df' : [0.5, 0.55, 0.6, 0.65, 0.7, 0.75 ]\n",
    "}\n",
    "\n",
    "# Instantiate GridSearchCV for tvec.\n",
    "gs_tvec_lr = GridSearchCV(tvec_pipe_lr,\n",
    "                      pipe_params_t,\n",
    "                      cv=3,\n",
    "                      verbose=1)\n",
    "\n",
    "\n",
    "# Fitting the gridsearch\n",
    "gs_tvec_lr.fit(X_train, y_train)\n",
    "\n",
    "# every time i fit a new model, i will create a count\n",
    "count_t += 1\n",
    "\n",
    "# # Best Score\n",
    "# gs.best_score_\n",
    "\n",
    "gs_tvec_lr.best_params_['score'] = gs_tvec_lr.best_score_\n",
    "model_params_t[f'model_{count_t}'] = gs_tvec_lr.best_params_\n",
    "\n",
    "model_df_t = pd.DataFrame.from_dict(model_params_t, orient='index')\n",
    "\n",
    "print(f'Train R2: {gs.score(X_train, y_train)}')\n",
    "print('-----------------')\n",
    "print(f'Test R2: {gs.score(X_test, y_test)}')\n",
    "\n",
    "model_df_t\n"
   ]
  },
  {
   "cell_type": "code",
   "execution_count": 30,
   "id": "entitled-episode",
   "metadata": {},
   "outputs": [
    {
     "name": "stdout",
     "output_type": "stream",
     "text": [
      "Train R2: 0.9280321546901309\n",
      "Test R2: 0.8988269794721407\n"
     ]
    }
   ],
   "source": [
    "print(f'Train R2: {gs_tvec_lr.score(X_train, y_train)}')\n",
    "print(f'Test R2: {gs_tvec_lr.score(X_test, y_test)}')"
   ]
  },
  {
   "cell_type": "code",
   "execution_count": 24,
   "id": "binding-heath",
   "metadata": {},
   "outputs": [
    {
     "data": {
      "image/png": "[encoded data removed]",
      "text/plain": [
       "<Figure size 432x288 with 2 Axes>"
      ]
     },
     "metadata": {
      "needs_background": "light"
     },
     "output_type": "display_data"
    }
   ],
   "source": [
    "# Get predictions\n",
    "pred = gs_tvec_lr.predict(X_test)\n",
    "# Save confusion matrix values\n",
    "tn, fp, fn, tp = confusion_matrix(y_test, pred).ravel()\n",
    "\n",
    "# View confusion matrix\n",
    "plot_confusion_matrix(gs_tvec_lr, X_test, y_test, cmap='Blues', values_format='d');"
   ]
  },
  {
   "cell_type": "code",
   "execution_count": 25,
   "id": "rubber-being",
   "metadata": {},
   "outputs": [
    {
     "name": "stdout",
     "output_type": "stream",
     "text": [
      "specificity: 0.8540723981900452\n",
      "sensitivity: 0.9400458978772231\n"
     ]
    }
   ],
   "source": [
    "# Calculate the specificity\n",
    "specificty = tn / (tn + fp)\n",
    "print(f'specificity: {specificty}')\n",
    "\n",
    "# Sensitivity\n",
    "sensitivity = tp / (tp + fn)\n",
    "print(f'sensitivity: {sensitivity}')\n",
    "\n",
    "# Accuracy\n",
    "accuracy = (tn + tp) / (tn + fp + fn + tp)\n",
    "print(f'accuracy: {accuracy}')\n",
    "\n",
    "# Precision\n",
    "precision = tp / (tp + fp)\n",
    "print(f'precision: {precision}')"
   ]
  },
  {
   "cell_type": "markdown",
   "id": "turkish-scottish",
   "metadata": {},
   "source": [
    "## Random Forest with CountVectorizer"
   ]
  },
  {
   "cell_type": "code",
   "execution_count": 43,
   "id": "floppy-merchant",
   "metadata": {},
   "outputs": [],
   "source": [
    "X_train, X_test, y_train, y_test = train_test_split(X,\n",
    "                                                    y,\n",
    "                                                    test_size=0.25,\n",
    "                                                    stratify=y,\n",
    "                                                    random_state=42)"
   ]
  },
  {
   "cell_type": "code",
   "execution_count": 44,
   "id": "nominated-practitioner",
   "metadata": {},
   "outputs": [],
   "source": [
    "# setting up some variables & a dict to keep track of\n",
    "# how models are performing\n",
    "# Guidance from : Random Forests and Extra Trees Lesson\n",
    "count = 0\n",
    "model_params = {}"
   ]
  },
  {
   "cell_type": "code",
   "execution_count": 55,
   "id": "prescribed-milton",
   "metadata": {},
   "outputs": [
    {
     "name": "stdout",
     "output_type": "stream",
     "text": [
      "Fitting 3 folds for each of 108 candidates, totalling 324 fits\n",
      "0.8585085003530498\n",
      "\n",
      "0.8548387096774194\n"
     ]
    },
    {
     "data": {
      "text/html": [
       "<div>\n",
       "<style scoped>\n",
       "    .dataframe tbody tr th:only-of-type {\n",
       "        vertical-align: middle;\n",
       "    }\n",
       "\n",
       "    .dataframe tbody tr th {\n",
       "        vertical-align: top;\n",
       "    }\n",
       "\n",
       "    .dataframe thead th {\n",
       "        text-align: right;\n",
       "    }\n",
       "</style>\n",
       "<table border=\"1\" class=\"dataframe\">\n",
       "  <thead>\n",
       "    <tr style=\"text-align: right;\">\n",
       "      <th></th>\n",
       "      <th>cvec__max_df</th>\n",
       "      <th>cvec__max_features</th>\n",
       "      <th>cvec__ngram_range</th>\n",
       "      <th>score</th>\n",
       "      <th>rf__ccp_alpha</th>\n",
       "      <th>rf__max_depth</th>\n",
       "      <th>rf__max_features</th>\n",
       "      <th>rf__min_samples_leaf</th>\n",
       "      <th>rf__n_estimators</th>\n",
       "    </tr>\n",
       "  </thead>\n",
       "  <tbody>\n",
       "    <tr>\n",
       "      <th>model_1</th>\n",
       "      <td>0.65</td>\n",
       "      <td>5000.0</td>\n",
       "      <td>(1, 2)</td>\n",
       "      <td>0.888871</td>\n",
       "      <td>NaN</td>\n",
       "      <td>NaN</td>\n",
       "      <td>NaN</td>\n",
       "      <td>NaN</td>\n",
       "      <td>NaN</td>\n",
       "    </tr>\n",
       "    <tr>\n",
       "      <th>model_3</th>\n",
       "      <td>0.65</td>\n",
       "      <td>5000.0</td>\n",
       "      <td>(1, 3)</td>\n",
       "      <td>0.855141</td>\n",
       "      <td>0.001</td>\n",
       "      <td>NaN</td>\n",
       "      <td>auto</td>\n",
       "      <td>50.0</td>\n",
       "      <td>NaN</td>\n",
       "    </tr>\n",
       "    <tr>\n",
       "      <th>model_2</th>\n",
       "      <td>NaN</td>\n",
       "      <td>NaN</td>\n",
       "      <td>NaN</td>\n",
       "      <td>0.659932</td>\n",
       "      <td>0.001</td>\n",
       "      <td>7.0</td>\n",
       "      <td>auto</td>\n",
       "      <td>5.0</td>\n",
       "      <td>300.0</td>\n",
       "    </tr>\n",
       "  </tbody>\n",
       "</table>\n",
       "</div>"
      ],
      "text/plain": [
       "         cvec__max_df  cvec__max_features cvec__ngram_range     score  \\\n",
       "model_1          0.65              5000.0            (1, 2)  0.888871   \n",
       "model_3          0.65              5000.0            (1, 3)  0.855141   \n",
       "model_2           NaN                 NaN               NaN  0.659932   \n",
       "\n",
       "         rf__ccp_alpha  rf__max_depth rf__max_features  rf__min_samples_leaf  \\\n",
       "model_1            NaN            NaN              NaN                   NaN   \n",
       "model_3          0.001            NaN             auto                  50.0   \n",
       "model_2          0.001            7.0             auto                   5.0   \n",
       "\n",
       "         rf__n_estimators  \n",
       "model_1               NaN  \n",
       "model_3               NaN  \n",
       "model_2             300.0  "
      ]
     },
     "execution_count": 55,
     "metadata": {},
     "output_type": "execute_result"
    }
   ],
   "source": [
    "\n",
    "\n",
    "pipe = Pipeline([\n",
    "    ('cvec', CountVectorizer(stop_words=custom_stop_words)),\n",
    "    ('rf', RandomForestClassifier())\n",
    "])\n",
    "\n",
    "# RandomForestClassifier()\n",
    "pipe_params = {\n",
    "    'cvec__max_features' : [5000,6000],\n",
    "    'cvec__max_df' : [0.6, 0.65, 0.7],\n",
    "    'cvec__ngram_range' : [(1,1),(1,2),(1,3)],\n",
    "    #'rf__n_estimators': [200,300],\n",
    "    'rf__max_features': ['auto'],\n",
    "#     'rf__max_depth': [6,7],\n",
    "    'rf__min_samples_leaf': [50,100],\n",
    "    'rf__ccp_alpha': [0.001, 0.01, 0.1]\n",
    "}\n",
    "\n",
    "gs = GridSearchCV(pipe, pipe_params, cv = 3,\n",
    "                  scoring = 'accuracy', verbose = 1, n_jobs=4)\n",
    "                  # Check out what some of these do or ask!\n",
    "    \n",
    "gs.fit(X_train, y_train)\n",
    "\n",
    "\n",
    "# every time i fit a new model, i will create a count\n",
    "count += 1\n",
    "\n",
    "gs.best_params_['score'] = gs.best_score_\n",
    "model_params[f'model_{count}'] = gs.best_params_\n",
    "\n",
    "model_df = pd.DataFrame.from_dict(model_params, orient='index')\n",
    "\n",
    "\n",
    "print(f'Train R2: {gs.score(X_train, y_train)}')\n",
    "print('-----------------')\n",
    "print(f'Test R2: {gs.score(X_test, y_test)}')\n",
    "\n",
    "model_df"
   ]
  },
  {
   "cell_type": "code",
   "execution_count": 57,
   "id": "thousand-baker",
   "metadata": {},
   "outputs": [
    {
     "name": "stdout",
     "output_type": "stream",
     "text": [
      "Train R2: 0.8585085003530498\n",
      "Test R2: 0.8548387096774194\n"
     ]
    }
   ],
   "source": [
    "print(f'Train R2: {gs.score(X_train, y_train)}')\n",
    "print(f'Test R2: {gs.score(X_test, y_test)}')"
   ]
  },
  {
   "cell_type": "code",
   "execution_count": 58,
   "id": "plain-moderator",
   "metadata": {},
   "outputs": [
    {
     "data": {
      "image/png": "[encoded data removed]",
      "text/plain": [
       "<Figure size 432x288 with 2 Axes>"
      ]
     },
     "metadata": {
      "needs_background": "light"
     },
     "output_type": "display_data"
    }
   ],
   "source": [
    "# Get predictions\n",
    "pred = gs.predict(X_test)\n",
    "# Save confusion matrix values\n",
    "tn, fp, fn, tp = confusion_matrix(y_test, pred).ravel()\n",
    "\n",
    "# View confusion matrix\n",
    "plot_confusion_matrix(gs, X_test, y_test, cmap='Blues', values_format='d');"
   ]
  },
  {
   "cell_type": "code",
   "execution_count": 60,
   "id": "latter-electron",
   "metadata": {},
   "outputs": [
    {
     "name": "stdout",
     "output_type": "stream",
     "text": [
      "specificity: 0.8001508295625943\n",
      "sensitivity: 0.8964429145152036\n",
      "accuracy: 0.8548387096774194\n",
      "precision: 0.8549931600547196\n"
     ]
    }
   ],
   "source": [
    "# Calculate the specificity\n",
    "specificty = tn / (tn + fp)\n",
    "print(f'specificity: {specificty}')\n",
    "\n",
    "# Sensitivity\n",
    "sensitivity = tp / (tp + fn)\n",
    "print(f'sensitivity: {sensitivity}')\n",
    "\n",
    "# Accuracy\n",
    "accuracy = (tn + tp) / (tn + fp + fn + tp)\n",
    "print(f'accuracy: {accuracy}')\n",
    "\n",
    "# Precision\n",
    "precision = tp / (tp + fp)\n",
    "print(f'precision: {precision}')"
   ]
  },
  {
   "cell_type": "markdown",
   "id": "experienced-eight",
   "metadata": {},
   "source": [
    "## Random Forest with TfidVectorizer"
   ]
  },
  {
   "cell_type": "code",
   "execution_count": 65,
   "id": "advisory-waste",
   "metadata": {},
   "outputs": [],
   "source": [
    "X_train, X_test, y_train, y_test = train_test_split(X,\n",
    "                                                    y,\n",
    "                                                    test_size=0.25,\n",
    "                                                    stratify=y,\n",
    "                                                    random_state=42)"
   ]
  },
  {
   "cell_type": "code",
   "execution_count": 66,
   "id": "verbal-white",
   "metadata": {},
   "outputs": [],
   "source": [
    "# setting up some variables & a dict to keep track of\n",
    "# how models are performing\n",
    "# Guidance from : Random Forests and Extra Trees Lesson\n",
    "count = 0\n",
    "model_params = {}"
   ]
  },
  {
   "cell_type": "code",
   "execution_count": 67,
   "id": "engaged-renaissance",
   "metadata": {},
   "outputs": [
    {
     "name": "stdout",
     "output_type": "stream",
     "text": [
      "Fitting 4 folds for each of 108 candidates, totalling 432 fits\n",
      "Train R2: 0.8705121937971865\n",
      "-----------------\n",
      "Test R2: 0.8647768002606713\n"
     ]
    },
    {
     "data": {
      "text/html": [
       "<div>\n",
       "<style scoped>\n",
       "    .dataframe tbody tr th:only-of-type {\n",
       "        vertical-align: middle;\n",
       "    }\n",
       "\n",
       "    .dataframe tbody tr th {\n",
       "        vertical-align: top;\n",
       "    }\n",
       "\n",
       "    .dataframe thead th {\n",
       "        text-align: right;\n",
       "    }\n",
       "</style>\n",
       "<table border=\"1\" class=\"dataframe\">\n",
       "  <thead>\n",
       "    <tr style=\"text-align: right;\">\n",
       "      <th></th>\n",
       "      <th>rf__ccp_alpha</th>\n",
       "      <th>rf__max_features</th>\n",
       "      <th>rf__min_samples_leaf</th>\n",
       "      <th>tvec__max_df</th>\n",
       "      <th>tvec__max_features</th>\n",
       "      <th>tvec__ngram_range</th>\n",
       "      <th>score</th>\n",
       "    </tr>\n",
       "  </thead>\n",
       "  <tbody>\n",
       "    <tr>\n",
       "      <th>model_1</th>\n",
       "      <td>0.001</td>\n",
       "      <td>auto</td>\n",
       "      <td>50</td>\n",
       "      <td>0.6</td>\n",
       "      <td>6000</td>\n",
       "      <td>(1, 2)</td>\n",
       "      <td>0.862093</td>\n",
       "    </tr>\n",
       "  </tbody>\n",
       "</table>\n",
       "</div>"
      ],
      "text/plain": [
       "         rf__ccp_alpha rf__max_features  rf__min_samples_leaf  tvec__max_df  \\\n",
       "model_1          0.001             auto                    50           0.6   \n",
       "\n",
       "         tvec__max_features tvec__ngram_range     score  \n",
       "model_1                6000            (1, 2)  0.862093  "
      ]
     },
     "execution_count": 67,
     "metadata": {},
     "output_type": "execute_result"
    }
   ],
   "source": [
    "\n",
    "pipe = Pipeline([\n",
    "    ('tvec', TfidfVectorizer(stop_words=custom_stop_words)),\n",
    "    ('rf', RandomForestClassifier())\n",
    "])\n",
    "\n",
    "pipe_params = {\n",
    "    'tvec__max_features' : [5000,6000],\n",
    "    'tvec__max_df' : [0.6, 0.65, 0.7],\n",
    "    'tvec__ngram_range' : [(1,1),(1,2),(1,3)],\n",
    "    #'rf__n_estimators': [200,300],\n",
    "    'rf__max_features': ['auto'],\n",
    "#     'rf__max_depth': [6,7],\n",
    "    'rf__min_samples_leaf': [50,100],\n",
    "    'rf__ccp_alpha': [0.001, 0.01, 0.1]\n",
    "}\n",
    "\n",
    "gs = GridSearchCV(pipe, pipe_params, cv = 4,\n",
    "                  scoring = 'accuracy', verbose = 1)\n",
    "                  # Check out what some of these do or ask!\n",
    "    \n",
    "gs.fit(X_train, y_train)\n",
    "\n",
    "\n",
    "# every time i fit a new model, add to the count var\n",
    "count += 1\n",
    "\n",
    "gs.best_params_['score'] = gs.best_score_\n",
    "model_params[f'model_{count}'] = gs.best_params_\n",
    "\n",
    "model_df = pd.DataFrame.from_dict(model_params, orient='index')\n",
    "\n",
    "print(f'Train R2: {gs.score(X_train, y_train)}')\n",
    "print('-----------------')\n",
    "print(f'Test R2: {gs.score(X_test, y_test)}')\n",
    "\n",
    "model_df"
   ]
  },
  {
   "cell_type": "code",
   "execution_count": 68,
   "id": "frequent-berlin",
   "metadata": {},
   "outputs": [
    {
     "data": {
      "image/png": "[encoded data removed]",
      "text/plain": [
       "<Figure size 432x288 with 2 Axes>"
      ]
     },
     "metadata": {
      "needs_background": "light"
     },
     "output_type": "display_data"
    }
   ],
   "source": [
    "# Get predictions\n",
    "pred = gs.predict(X_test)\n",
    "# Save confusion matrix values\n",
    "tn, fp, fn, tp = confusion_matrix(y_test, pred).ravel()\n",
    "\n",
    "# View confusion matrix\n",
    "plot_confusion_matrix(gs, X_test, y_test, cmap='Blues', values_format='d');"
   ]
  },
  {
   "cell_type": "code",
   "execution_count": 69,
   "id": "chief-drill",
   "metadata": {},
   "outputs": [
    {
     "name": "stdout",
     "output_type": "stream",
     "text": [
      "specificity: 0.7922322775263951\n",
      "sensitivity: 0.9199655765920827\n",
      "accuracy: 0.8647768002606713\n",
      "precision: 0.8533794571580628\n"
     ]
    }
   ],
   "source": [
    "# Calculate the specificity\n",
    "specificty = tn / (tn + fp)\n",
    "print(f'specificity: {specificty}')\n",
    "\n",
    "# Sensitivity\n",
    "sensitivity = tp / (tp + fn)\n",
    "print(f'sensitivity: {sensitivity}')\n",
    "\n",
    "# Accuracy\n",
    "accuracy = (tn + tp) / (tn + fp + fn + tp)\n",
    "print(f'accuracy: {accuracy}')\n",
    "\n",
    "# Precision\n",
    "precision = tp / (tp + fp)\n",
    "print(f'precision: {precision}')"
   ]
  }
 ],
 "metadata": {
  "kernelspec": {
   "display_name": "Python 3",
   "language": "python",
   "name": "python3"
  },
  "language_info": {
   "codemirror_mode": {
    "name": "ipython",
    "version": 3
   },
   "file_extension": ".py",
   "mimetype": "text/x-python",
   "name": "python",
   "nbconvert_exporter": "python",
   "pygments_lexer": "ipython3",
   "version": "3.8.8"
  }
 },
 "nbformat": 4,
 "nbformat_minor": 5
}
